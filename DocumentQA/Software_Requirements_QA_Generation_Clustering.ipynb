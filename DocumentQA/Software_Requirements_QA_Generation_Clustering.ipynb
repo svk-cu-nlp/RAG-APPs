{
  "nbformat": 4,
  "nbformat_minor": 0,
  "metadata": {
    "colab": {
      "provenance": [],
      "gpuType": "T4"
    },
    "kernelspec": {
      "name": "python3",
      "display_name": "Python 3"
    },
    "language_info": {
      "name": "python"
    },
    "accelerator": "GPU"
  },
  "cells": [
    {
      "cell_type": "code",
      "execution_count": null,
      "metadata": {
        "id": "ZMhYdn89gtTY"
      },
      "outputs": [],
      "source": [
        "openai_key = 'sk-XXX'\n"
      ]
    },
    {
      "cell_type": "code",
      "source": [
        "!pip -q install langchain huggingface_hub tiktoken\n",
        "!pip -q install chromadb\n",
        "!pip -q install PyPDF2 pypdf InstructorEmbedding sentence_transformers\n",
        "!pip -q install --upgrade together"
      ],
      "metadata": {
        "colab": {
          "base_uri": "https://localhost:8080/"
        },
        "id": "QPT3F2KNkuxN",
        "outputId": "1870fb67-0f89-4a37-e147-5026daeb9d6b"
      },
      "execution_count": null,
      "outputs": [
        {
          "output_type": "stream",
          "name": "stdout",
          "text": [
            "\u001b[2K     \u001b[90m━━━━━━━━━━━━━━━━━━━━━━━━━━━━━━━━━━━━━━━━\u001b[0m \u001b[32m2.0/2.0 MB\u001b[0m \u001b[31m16.3 MB/s\u001b[0m eta \u001b[36m0:00:00\u001b[0m\n",
            "\u001b[2K     \u001b[90m━━━━━━━━━━━━━━━━━━━━━━━━━━━━━━━━━━━━━━━━\u001b[0m \u001b[32m302.0/302.0 kB\u001b[0m \u001b[31m30.9 MB/s\u001b[0m eta \u001b[36m0:00:00\u001b[0m\n",
            "\u001b[2K     \u001b[90m━━━━━━━━━━━━━━━━━━━━━━━━━━━━━━━━━━━━━━━━\u001b[0m \u001b[32m2.0/2.0 MB\u001b[0m \u001b[31m65.1 MB/s\u001b[0m eta \u001b[36m0:00:00\u001b[0m\n",
            "\u001b[2K     \u001b[90m━━━━━━━━━━━━━━━━━━━━━━━━━━━━━━━━━━━━━━━━\u001b[0m \u001b[32m44.4/44.4 kB\u001b[0m \u001b[31m6.2 MB/s\u001b[0m eta \u001b[36m0:00:00\u001b[0m\n",
            "\u001b[2K     \u001b[90m━━━━━━━━━━━━━━━━━━━━━━━━━━━━━━━━━━━━━━━━\u001b[0m \u001b[32m49.4/49.4 kB\u001b[0m \u001b[31m6.1 MB/s\u001b[0m eta \u001b[36m0:00:00\u001b[0m\n",
            "\u001b[?25h\u001b[31mERROR: pip's dependency resolver does not currently take into account all the packages that are installed. This behaviour is the source of the following dependency conflicts.\n",
            "llmx 0.0.15a0 requires cohere, which is not installed.\n",
            "llmx 0.0.15a0 requires openai, which is not installed.\u001b[0m\u001b[31m\n",
            "\u001b[2K     \u001b[90m━━━━━━━━━━━━━━━━━━━━━━━━━━━━━━━━━━━━━━━━\u001b[0m \u001b[32m479.8/479.8 kB\u001b[0m \u001b[31m4.7 MB/s\u001b[0m eta \u001b[36m0:00:00\u001b[0m\n",
            "\u001b[2K     \u001b[90m━━━━━━━━━━━━━━━━━━━━━━━━━━━━━━━━━━━━━━━━\u001b[0m \u001b[32m2.4/2.4 MB\u001b[0m \u001b[31m59.3 MB/s\u001b[0m eta \u001b[36m0:00:00\u001b[0m\n",
            "\u001b[2K     \u001b[90m━━━━━━━━━━━━━━━━━━━━━━━━━━━━━━━━━━━━━━━━\u001b[0m \u001b[32m92.9/92.9 kB\u001b[0m \u001b[31m12.0 MB/s\u001b[0m eta \u001b[36m0:00:00\u001b[0m\n",
            "\u001b[2K     \u001b[90m━━━━━━━━━━━━━━━━━━━━━━━━━━━━━━━━━━━━━━━━\u001b[0m \u001b[32m59.5/59.5 kB\u001b[0m \u001b[31m8.0 MB/s\u001b[0m eta \u001b[36m0:00:00\u001b[0m\n",
            "\u001b[2K     \u001b[90m━━━━━━━━━━━━━━━━━━━━━━━━━━━━━━━━━━━━━━━━\u001b[0m \u001b[32m5.4/5.4 MB\u001b[0m \u001b[31m88.4 MB/s\u001b[0m eta \u001b[36m0:00:00\u001b[0m\n",
            "\u001b[2K     \u001b[90m━━━━━━━━━━━━━━━━━━━━━━━━━━━━━━━━━━━━━━━━\u001b[0m \u001b[32m6.2/6.2 MB\u001b[0m \u001b[31m96.1 MB/s\u001b[0m eta \u001b[36m0:00:00\u001b[0m\n",
            "\u001b[2K     \u001b[90m━━━━━━━━━━━━━━━━━━━━━━━━━━━━━━━━━━━━━━━━\u001b[0m \u001b[32m57.5/57.5 kB\u001b[0m \u001b[31m5.7 MB/s\u001b[0m eta \u001b[36m0:00:00\u001b[0m\n",
            "\u001b[2K     \u001b[90m━━━━━━━━━━━━━━━━━━━━━━━━━━━━━━━━━━━━━━━━\u001b[0m \u001b[32m103.9/103.9 kB\u001b[0m \u001b[31m15.2 MB/s\u001b[0m eta \u001b[36m0:00:00\u001b[0m\n",
            "\u001b[2K     \u001b[90m━━━━━━━━━━━━━━━━━━━━━━━━━━━━━━━━━━━━━━━━\u001b[0m \u001b[32m3.8/3.8 MB\u001b[0m \u001b[31m88.3 MB/s\u001b[0m eta \u001b[36m0:00:00\u001b[0m\n",
            "\u001b[2K     \u001b[90m━━━━━━━━━━━━━━━━━━━━━━━━━━━━━━━━━━━━━━━━\u001b[0m \u001b[32m67.3/67.3 kB\u001b[0m \u001b[31m9.7 MB/s\u001b[0m eta \u001b[36m0:00:00\u001b[0m\n",
            "\u001b[?25h  Installing build dependencies ... \u001b[?25l\u001b[?25hdone\n",
            "  Getting requirements to build wheel ... \u001b[?25l\u001b[?25hdone\n",
            "  Preparing metadata (pyproject.toml) ... \u001b[?25l\u001b[?25hdone\n",
            "\u001b[2K     \u001b[90m━━━━━━━━━━━━━━━━━━━━━━━━━━━━━━━━━━━━━━━━\u001b[0m \u001b[32m593.7/593.7 kB\u001b[0m \u001b[31m60.8 MB/s\u001b[0m eta \u001b[36m0:00:00\u001b[0m\n",
            "\u001b[2K     \u001b[90m━━━━━━━━━━━━━━━━━━━━━━━━━━━━━━━━━━━━━━━━\u001b[0m \u001b[32m1.6/1.6 MB\u001b[0m \u001b[31m94.0 MB/s\u001b[0m eta \u001b[36m0:00:00\u001b[0m\n",
            "\u001b[2K     \u001b[90m━━━━━━━━━━━━━━━━━━━━━━━━━━━━━━━━━━━━━━━━\u001b[0m \u001b[32m67.0/67.0 kB\u001b[0m \u001b[31m9.1 MB/s\u001b[0m eta \u001b[36m0:00:00\u001b[0m\n",
            "\u001b[2K     \u001b[90m━━━━━━━━━━━━━━━━━━━━━━━━━━━━━━━━━━━━━━━━\u001b[0m \u001b[32m143.8/143.8 kB\u001b[0m \u001b[31m14.8 MB/s\u001b[0m eta \u001b[36m0:00:00\u001b[0m\n",
            "\u001b[2K     \u001b[90m━━━━━━━━━━━━━━━━━━━━━━━━━━━━━━━━━━━━━━━━\u001b[0m \u001b[32m46.0/46.0 kB\u001b[0m \u001b[31m5.9 MB/s\u001b[0m eta \u001b[36m0:00:00\u001b[0m\n",
            "\u001b[2K     \u001b[90m━━━━━━━━━━━━━━━━━━━━━━━━━━━━━━━━━━━━━━━━\u001b[0m \u001b[32m50.8/50.8 kB\u001b[0m \u001b[31m7.7 MB/s\u001b[0m eta \u001b[36m0:00:00\u001b[0m\n",
            "\u001b[2K     \u001b[90m━━━━━━━━━━━━━━━━━━━━━━━━━━━━━━━━━━━━━━━━\u001b[0m \u001b[32m295.0/295.0 kB\u001b[0m \u001b[31m38.2 MB/s\u001b[0m eta \u001b[36m0:00:00\u001b[0m\n",
            "\u001b[2K     \u001b[90m━━━━━━━━━━━━━━━━━━━━━━━━━━━━━━━━━━━━━━━━\u001b[0m \u001b[32m58.3/58.3 kB\u001b[0m \u001b[31m8.9 MB/s\u001b[0m eta \u001b[36m0:00:00\u001b[0m\n",
            "\u001b[2K     \u001b[90m━━━━━━━━━━━━━━━━━━━━━━━━━━━━━━━━━━━━━━━━\u001b[0m \u001b[32m341.4/341.4 kB\u001b[0m \u001b[31m36.4 MB/s\u001b[0m eta \u001b[36m0:00:00\u001b[0m\n",
            "\u001b[2K     \u001b[90m━━━━━━━━━━━━━━━━━━━━━━━━━━━━━━━━━━━━━━━━\u001b[0m \u001b[32m3.4/3.4 MB\u001b[0m \u001b[31m105.9 MB/s\u001b[0m eta \u001b[36m0:00:00\u001b[0m\n",
            "\u001b[2K     \u001b[90m━━━━━━━━━━━━━━━━━━━━━━━━━━━━━━━━━━━━━━━━\u001b[0m \u001b[32m1.3/1.3 MB\u001b[0m \u001b[31m84.6 MB/s\u001b[0m eta \u001b[36m0:00:00\u001b[0m\n",
            "\u001b[2K     \u001b[90m━━━━━━━━━━━━━━━━━━━━━━━━━━━━━━━━━━━━━━━━\u001b[0m \u001b[32m130.2/130.2 kB\u001b[0m \u001b[31m14.5 MB/s\u001b[0m eta \u001b[36m0:00:00\u001b[0m\n",
            "\u001b[2K     \u001b[90m━━━━━━━━━━━━━━━━━━━━━━━━━━━━━━━━━━━━━━━━\u001b[0m \u001b[32m86.8/86.8 kB\u001b[0m \u001b[31m13.4 MB/s\u001b[0m eta \u001b[36m0:00:00\u001b[0m\n",
            "\u001b[?25h  Building wheel for pypika (pyproject.toml) ... \u001b[?25l\u001b[?25hdone\n",
            "\u001b[31mERROR: pip's dependency resolver does not currently take into account all the packages that are installed. This behaviour is the source of the following dependency conflicts.\n",
            "lida 0.0.10 requires kaleido, which is not installed.\n",
            "lida 0.0.10 requires python-multipart, which is not installed.\n",
            "tensorflow-probability 0.22.0 requires typing-extensions<4.6.0, but you have typing-extensions 4.8.0 which is incompatible.\u001b[0m\u001b[31m\n",
            "\u001b[2K     \u001b[90m━━━━━━━━━━━━━━━━━━━━━━━━━━━━━━━━━━━━━━━━\u001b[0m \u001b[32m232.6/232.6 kB\u001b[0m \u001b[31m5.1 MB/s\u001b[0m eta \u001b[36m0:00:00\u001b[0m\n",
            "\u001b[2K     \u001b[90m━━━━━━━━━━━━━━━━━━━━━━━━━━━━━━━━━━━━━━━━\u001b[0m \u001b[32m277.4/277.4 kB\u001b[0m \u001b[31m19.6 MB/s\u001b[0m eta \u001b[36m0:00:00\u001b[0m\n",
            "\u001b[2K     \u001b[90m━━━━━━━━━━━━━━━━━━━━━━━━━━━━━━━━━━━━━━━━\u001b[0m \u001b[32m86.0/86.0 kB\u001b[0m \u001b[31m12.8 MB/s\u001b[0m eta \u001b[36m0:00:00\u001b[0m\n",
            "\u001b[?25h  Preparing metadata (setup.py) ... \u001b[?25l\u001b[?25hdone\n",
            "\u001b[2K     \u001b[90m━━━━━━━━━━━━━━━━━━━━━━━━━━━━━━━━━━━━━━━━\u001b[0m \u001b[32m7.7/7.7 MB\u001b[0m \u001b[31m96.8 MB/s\u001b[0m eta \u001b[36m0:00:00\u001b[0m\n",
            "\u001b[2K     \u001b[90m━━━━━━━━━━━━━━━━━━━━━━━━━━━━━━━━━━━━━━━━\u001b[0m \u001b[32m1.3/1.3 MB\u001b[0m \u001b[31m81.0 MB/s\u001b[0m eta \u001b[36m0:00:00\u001b[0m\n",
            "\u001b[2K     \u001b[90m━━━━━━━━━━━━━━━━━━━━━━━━━━━━━━━━━━━━━━━━\u001b[0m \u001b[32m1.3/1.3 MB\u001b[0m \u001b[31m76.6 MB/s\u001b[0m eta \u001b[36m0:00:00\u001b[0m\n",
            "\u001b[?25h  Building wheel for sentence_transformers (setup.py) ... \u001b[?25l\u001b[?25hdone\n"
          ]
        }
      ]
    },
    {
      "cell_type": "code",
      "source": [
        "import os\n",
        "\n",
        "os.environ[\"TOGETHER_API_KEY\"] = \"dbXXX\""
      ],
      "metadata": {
        "id": "RjF8RNfgk9Jd"
      },
      "execution_count": null,
      "outputs": []
    },
    {
      "cell_type": "code",
      "source": [
        "import together\n",
        "\n",
        "# set your API key\n",
        "together.api_key = os.environ[\"TOGETHER_API_KEY\"]\n",
        "\n",
        "# list available models and descriptons\n",
        "models = together.Models.list()"
      ],
      "metadata": {
        "id": "ZF5m2kHglAaU"
      },
      "execution_count": null,
      "outputs": []
    },
    {
      "cell_type": "code",
      "source": [
        "models"
      ],
      "metadata": {
        "id": "etptxxXilVOT"
      },
      "execution_count": null,
      "outputs": []
    },
    {
      "cell_type": "code",
      "source": [
        "together.Models.start(\"togethercomputer/falcon-40b-instruct\")"
      ],
      "metadata": {
        "colab": {
          "base_uri": "https://localhost:8080/"
        },
        "id": "88n6cZJFlDC0",
        "outputId": "7b391193-ea6c-4dc0-925f-b1c1306fd36f"
      },
      "execution_count": null,
      "outputs": [
        {
          "output_type": "execute_result",
          "data": {
            "text/plain": [
              "{'success': True,\n",
              " 'value': '223ea43201bbbaeee96866350ec3b360ee64e0af916e7554357a02ca791acfaf-e620a8bfbde3adec18d0c1b4558a7c6d672f29915e382f625d932095d9ca486f'}"
            ]
          },
          "metadata": {},
          "execution_count": 4
        }
      ]
    },
    {
      "cell_type": "code",
      "source": [],
      "metadata": {
        "id": "hcAFIpbtnYH5"
      },
      "execution_count": null,
      "outputs": []
    },
    {
      "cell_type": "code",
      "source": [
        "import together\n",
        "\n",
        "import logging\n",
        "from typing import Any, Dict, List, Mapping, Optional\n",
        "\n",
        "from pydantic import Extra, Field, root_validator\n",
        "\n",
        "from langchain.callbacks.manager import CallbackManagerForLLMRun\n",
        "from langchain.llms.base import LLM\n",
        "from langchain.llms.utils import enforce_stop_tokens\n",
        "from langchain.utils import get_from_dict_or_env\n",
        "\n",
        "class TogetherLLM(LLM):\n",
        "    \"\"\"Together large language models.\"\"\"\n",
        "\n",
        "    model: str = \"togethercomputer/falcon-40b-instruct\"\n",
        "    \"\"\"model endpoint to use\"\"\"\n",
        "\n",
        "    together_api_key: str = os.environ[\"TOGETHER_API_KEY\"]\n",
        "    \"\"\"Together API key\"\"\"\n",
        "\n",
        "    temperature: float = 0.7\n",
        "    \"\"\"What sampling temperature to use.\"\"\"\n",
        "\n",
        "    max_tokens: int = 512\n",
        "    \"\"\"The maximum number of tokens to generate in the completion.\"\"\"\n",
        "\n",
        "    class Config:\n",
        "        extra = Extra.forbid\n",
        "\n",
        "    @root_validator()\n",
        "    def validate_environment(cls, values: Dict) -> Dict:\n",
        "        \"\"\"Validate that the API key is set.\"\"\"\n",
        "        api_key = get_from_dict_or_env(\n",
        "            values, \"together_api_key\", \"TOGETHER_API_KEY\"\n",
        "        )\n",
        "        values[\"together_api_key\"] = api_key\n",
        "        return values\n",
        "\n",
        "    @property\n",
        "    def _llm_type(self) -> str:\n",
        "        \"\"\"Return type of LLM.\"\"\"\n",
        "        return \"together\"\n",
        "\n",
        "    def _call(\n",
        "        self,\n",
        "        prompt: str,\n",
        "        **kwargs: Any,\n",
        "    ) -> str:\n",
        "        \"\"\"Call to Together endpoint.\"\"\"\n",
        "        together.api_key = self.together_api_key\n",
        "        output = together.Complete.create(prompt,\n",
        "                                          model=self.model,\n",
        "                                          max_tokens=self.max_tokens,\n",
        "                                          temperature=self.temperature,\n",
        "                                          )\n",
        "        text = output['output']['choices'][0]['text']\n",
        "        return text\n"
      ],
      "metadata": {
        "id": "RgbLVmf-o4j7"
      },
      "execution_count": null,
      "outputs": []
    },
    {
      "cell_type": "code",
      "source": [
        "!pip install --q unstructured"
      ],
      "metadata": {
        "colab": {
          "base_uri": "https://localhost:8080/"
        },
        "id": "HoZ9S_yjn1hw",
        "outputId": "64c26700-b230-48a7-d91c-03dad2c25d3b"
      },
      "execution_count": null,
      "outputs": [
        {
          "output_type": "stream",
          "name": "stdout",
          "text": [
            "\u001b[2K     \u001b[90m━━━━━━━━━━━━━━━━━━━━━━━━━━━━━━━━━━━━━━━━\u001b[0m \u001b[32m1.7/1.7 MB\u001b[0m \u001b[31m20.9 MB/s\u001b[0m eta \u001b[36m0:00:00\u001b[0m\n",
            "\u001b[2K     \u001b[90m━━━━━━━━━━━━━━━━━━━━━━━━━━━━━━━━━━━━━━━━\u001b[0m \u001b[32m358.9/358.9 kB\u001b[0m \u001b[31m40.1 MB/s\u001b[0m eta \u001b[36m0:00:00\u001b[0m\n",
            "\u001b[2K     \u001b[90m━━━━━━━━━━━━━━━━━━━━━━━━━━━━━━━━━━━━━━━━\u001b[0m \u001b[32m275.1/275.1 kB\u001b[0m \u001b[31m35.3 MB/s\u001b[0m eta \u001b[36m0:00:00\u001b[0m\n",
            "\u001b[2K     \u001b[90m━━━━━━━━━━━━━━━━━━━━━━━━━━━━━━━━━━━━━━━━\u001b[0m \u001b[32m981.5/981.5 kB\u001b[0m \u001b[31m56.2 MB/s\u001b[0m eta \u001b[36m0:00:00\u001b[0m\n",
            "\u001b[?25h  Preparing metadata (setup.py) ... \u001b[?25l\u001b[?25hdone\n",
            "\u001b[2K     \u001b[90m━━━━━━━━━━━━━━━━━━━━━━━━━━━━━━━━━━━━━━━━\u001b[0m \u001b[32m3.3/3.3 MB\u001b[0m \u001b[31m73.4 MB/s\u001b[0m eta \u001b[36m0:00:00\u001b[0m\n",
            "\u001b[?25h  Building wheel for langdetect (setup.py) ... \u001b[?25l\u001b[?25hdone\n"
          ]
        }
      ]
    },
    {
      "cell_type": "code",
      "source": [
        "!pip install cohere pypdf -q"
      ],
      "metadata": {
        "colab": {
          "base_uri": "https://localhost:8080/"
        },
        "id": "Az0GCa4koCAg",
        "outputId": "c29844e8-3f58-4a55-daab-704497ba94f2"
      },
      "execution_count": null,
      "outputs": [
        {
          "output_type": "stream",
          "name": "stdout",
          "text": [
            "\u001b[2K     \u001b[90m━━━━━━━━━━━━━━━━━━━━━━━━━━━━━━━━━━━━━━━━\u001b[0m \u001b[32m48.0/48.0 kB\u001b[0m \u001b[31m1.3 MB/s\u001b[0m eta \u001b[36m0:00:00\u001b[0m\n",
            "\u001b[2K     \u001b[90m━━━━━━━━━━━━━━━━━━━━━━━━━━━━━━━━━━━━━━━━\u001b[0m \u001b[32m2.7/2.7 MB\u001b[0m \u001b[31m36.4 MB/s\u001b[0m eta \u001b[36m0:00:00\u001b[0m\n",
            "\u001b[?25h"
          ]
        }
      ]
    },
    {
      "cell_type": "code",
      "source": [
        "!pip install openai -q"
      ],
      "metadata": {
        "id": "4UYfVlPjn_Gp",
        "colab": {
          "base_uri": "https://localhost:8080/"
        },
        "outputId": "38383f0f-1dbd-450c-f41d-acbb5686e9a2"
      },
      "execution_count": null,
      "outputs": [
        {
          "output_type": "stream",
          "name": "stdout",
          "text": [
            "\u001b[?25l     \u001b[90m━━━━━━━━━━━━━━━━━━━━━━━━━━━━━━━━━━━━━━━━\u001b[0m \u001b[32m0.0/77.0 kB\u001b[0m \u001b[31m?\u001b[0m eta \u001b[36m-:--:--\u001b[0m\r\u001b[2K     \u001b[90m━━━━━━━━━━━━━━━━━━━━━━━━━━━━━━━━━━━━━━━━\u001b[0m \u001b[32m77.0/77.0 kB\u001b[0m \u001b[31m2.2 MB/s\u001b[0m eta \u001b[36m0:00:00\u001b[0m\n",
            "\u001b[?25h\u001b[31mERROR: pip's dependency resolver does not currently take into account all the packages that are installed. This behaviour is the source of the following dependency conflicts.\n",
            "llmx 0.0.15a0 requires cohere, which is not installed.\u001b[0m\u001b[31m\n",
            "\u001b[0m"
          ]
        }
      ]
    },
    {
      "cell_type": "code",
      "source": [
        "!pip install unstructured[pdf] -q"
      ],
      "metadata": {
        "colab": {
          "base_uri": "https://localhost:8080/"
        },
        "id": "LdTJI6fvoMFI",
        "outputId": "155f647f-be90-4ce4-d8fd-428c04080183"
      },
      "execution_count": null,
      "outputs": [
        {
          "output_type": "stream",
          "name": "stdout",
          "text": [
            "\u001b[2K     \u001b[90m━━━━━━━━━━━━━━━━━━━━━━━━━━━━━━━━━━━━━━━━\u001b[0m \u001b[32m15.7/15.7 MB\u001b[0m \u001b[31m87.6 MB/s\u001b[0m eta \u001b[36m0:00:00\u001b[0m\n",
            "\u001b[2K     \u001b[90m━━━━━━━━━━━━━━━━━━━━━━━━━━━━━━━━━━━━━━━━\u001b[0m \u001b[32m5.6/5.6 MB\u001b[0m \u001b[31m103.1 MB/s\u001b[0m eta \u001b[36m0:00:00\u001b[0m\n",
            "\u001b[2K     \u001b[90m━━━━━━━━━━━━━━━━━━━━━━━━━━━━━━━━━━━━━━━━\u001b[0m \u001b[32m61.8/61.8 kB\u001b[0m \u001b[31m7.1 MB/s\u001b[0m eta \u001b[36m0:00:00\u001b[0m\n",
            "\u001b[2K     \u001b[90m━━━━━━━━━━━━━━━━━━━━━━━━━━━━━━━━━━━━━━━━\u001b[0m \u001b[32m19.2/19.2 MB\u001b[0m \u001b[31m76.7 MB/s\u001b[0m eta \u001b[36m0:00:00\u001b[0m\n",
            "\u001b[2K     \u001b[90m━━━━━━━━━━━━━━━━━━━━━━━━━━━━━━━━━━━━━━━━\u001b[0m \u001b[32m45.7/45.7 kB\u001b[0m \u001b[31m5.2 MB/s\u001b[0m eta \u001b[36m0:00:00\u001b[0m\n",
            "\u001b[2K     \u001b[90m━━━━━━━━━━━━━━━━━━━━━━━━━━━━━━━━━━━━━━━━\u001b[0m \u001b[32m5.9/5.9 MB\u001b[0m \u001b[31m92.5 MB/s\u001b[0m eta \u001b[36m0:00:00\u001b[0m\n",
            "\u001b[2K     \u001b[90m━━━━━━━━━━━━━━━━━━━━━━━━━━━━━━━━━━━━━━━━\u001b[0m \u001b[32m42.2/42.2 kB\u001b[0m \u001b[31m5.4 MB/s\u001b[0m eta \u001b[36m0:00:00\u001b[0m\n",
            "\u001b[?25h  Preparing metadata (setup.py) ... \u001b[?25l\u001b[?25hdone\n",
            "\u001b[2K     \u001b[90m━━━━━━━━━━━━━━━━━━━━━━━━━━━━━━━━━━━━━━━━\u001b[0m \u001b[32m49.0/49.0 kB\u001b[0m \u001b[31m5.6 MB/s\u001b[0m eta \u001b[36m0:00:00\u001b[0m\n",
            "\u001b[2K     \u001b[90m━━━━━━━━━━━━━━━━━━━━━━━━━━━━━━━━━━━━━━━━\u001b[0m \u001b[32m112.5/112.5 kB\u001b[0m \u001b[31m12.8 MB/s\u001b[0m eta \u001b[36m0:00:00\u001b[0m\n",
            "\u001b[2K     \u001b[90m━━━━━━━━━━━━━━━━━━━━━━━━━━━━━━━━━━━━━━━━\u001b[0m \u001b[32m2.2/2.2 MB\u001b[0m \u001b[31m97.6 MB/s\u001b[0m eta \u001b[36m0:00:00\u001b[0m\n",
            "\u001b[2K     \u001b[90m━━━━━━━━━━━━━━━━━━━━━━━━━━━━━━━━━━━━━━━━\u001b[0m \u001b[32m79.5/79.5 kB\u001b[0m \u001b[31m9.1 MB/s\u001b[0m eta \u001b[36m0:00:00\u001b[0m\n",
            "\u001b[2K     \u001b[90m━━━━━━━━━━━━━━━━━━━━━━━━━━━━━━━━━━━━━━━━\u001b[0m \u001b[32m3.0/3.0 MB\u001b[0m \u001b[31m108.0 MB/s\u001b[0m eta \u001b[36m0:00:00\u001b[0m\n",
            "\u001b[2K     \u001b[90m━━━━━━━━━━━━━━━━━━━━━━━━━━━━━━━━━━━━━━━━\u001b[0m \u001b[32m117.0/117.0 kB\u001b[0m \u001b[31m9.6 MB/s\u001b[0m eta \u001b[36m0:00:00\u001b[0m\n",
            "\u001b[?25h  Preparing metadata (setup.py) ... \u001b[?25l\u001b[?25hdone\n",
            "  Building wheel for iopath (setup.py) ... \u001b[?25l\u001b[?25hdone\n",
            "  Building wheel for antlr4-python3-runtime (setup.py) ... \u001b[?25l\u001b[?25hdone\n",
            "\u001b[31mERROR: pip's dependency resolver does not currently take into account all the packages that are installed. This behaviour is the source of the following dependency conflicts.\n",
            "lida 0.0.10 requires kaleido, which is not installed.\u001b[0m\u001b[31m\n",
            "\u001b[0m"
          ]
        }
      ]
    },
    {
      "cell_type": "code",
      "source": [
        "from langchain.text_splitter import MarkdownHeaderTextSplitter\n",
        "from langchain.document_loaders import UnstructuredMarkdownLoader\n",
        "from langchain.document_loaders import PyPDFLoader"
      ],
      "metadata": {
        "id": "UOryQuUfoPOo"
      },
      "execution_count": null,
      "outputs": []
    },
    {
      "cell_type": "code",
      "source": [
        "from langchain.vectorstores import Chroma\n",
        "from langchain.text_splitter import RecursiveCharacterTextSplitter\n",
        "\n",
        "from langchain.chains import RetrievalQA\n",
        "from langchain.document_loaders import TextLoader\n",
        "from langchain.document_loaders import PyPDFLoader\n",
        "from langchain.document_loaders import DirectoryLoader\n",
        "\n",
        "\n",
        "from InstructorEmbedding import INSTRUCTOR\n",
        "from langchain.embeddings import HuggingFaceInstructEmbeddings"
      ],
      "metadata": {
        "colab": {
          "base_uri": "https://localhost:8080/"
        },
        "id": "YQp0umcXn8Jh",
        "outputId": "76da6c45-1cd5-4047-e672-a2c6675ed3bb"
      },
      "execution_count": null,
      "outputs": [
        {
          "output_type": "stream",
          "name": "stderr",
          "text": [
            "/usr/local/lib/python3.10/dist-packages/InstructorEmbedding/instructor.py:7: TqdmExperimentalWarning: Using `tqdm.autonotebook.tqdm` in notebook mode. Use `tqdm.tqdm` instead to force console mode (e.g. in jupyter console)\n",
            "  from tqdm.autonotebook import trange\n"
          ]
        }
      ]
    },
    {
      "cell_type": "code",
      "source": [
        "!pip install -q transformers einops accelerate bitsandbytes"
      ],
      "metadata": {
        "colab": {
          "base_uri": "https://localhost:8080/"
        },
        "id": "hFKPHC-hoeWC",
        "outputId": "8b184c67-e2dd-4a18-f649-5392e8e3392d"
      },
      "execution_count": null,
      "outputs": [
        {
          "output_type": "stream",
          "name": "stdout",
          "text": [
            "\u001b[?25l     \u001b[90m━━━━━━━━━━━━━━━━━━━━━━━━━━━━━━━━━━━━━━━━\u001b[0m \u001b[32m0.0/44.6 kB\u001b[0m \u001b[31m?\u001b[0m eta \u001b[36m-:--:--\u001b[0m\r\u001b[2K     \u001b[90m━━━━━━━━━━━━━━━━━━━━━━━━━━━━━━━━━━━━━━━━\u001b[0m \u001b[32m44.6/44.6 kB\u001b[0m \u001b[31m1.6 MB/s\u001b[0m eta \u001b[36m0:00:00\u001b[0m\n",
            "\u001b[2K     \u001b[90m━━━━━━━━━━━━━━━━━━━━━━━━━━━━━━━━━━━━━━━━\u001b[0m \u001b[32m261.4/261.4 kB\u001b[0m \u001b[31m9.0 MB/s\u001b[0m eta \u001b[36m0:00:00\u001b[0m\n",
            "\u001b[2K     \u001b[90m━━━━━━━━━━━━━━━━━━━━━━━━━━━━━━━━━━━━━━━━\u001b[0m \u001b[32m92.6/92.6 MB\u001b[0m \u001b[31m9.3 MB/s\u001b[0m eta \u001b[36m0:00:00\u001b[0m\n",
            "\u001b[?25h"
          ]
        }
      ]
    },
    {
      "cell_type": "code",
      "source": [
        "!pip install sentencepiece"
      ],
      "metadata": {
        "colab": {
          "base_uri": "https://localhost:8080/"
        },
        "id": "uVXD4qfvohdQ",
        "outputId": "c4992df3-cb2b-4de2-ebef-16969274f815"
      },
      "execution_count": null,
      "outputs": [
        {
          "output_type": "stream",
          "name": "stdout",
          "text": [
            "Requirement already satisfied: sentencepiece in /usr/local/lib/python3.10/dist-packages (0.1.99)\n"
          ]
        }
      ]
    },
    {
      "cell_type": "markdown",
      "source": [
        "Req_test.txt contains simple software requirements specification statements."
      ],
      "metadata": {
        "id": "V9a1ho3bNcZG"
      }
    },
    {
      "cell_type": "code",
      "source": [
        "from langchain.document_loaders import TextLoader\n",
        "\n",
        "loader = TextLoader(\"req_test.txt\")\n",
        "documents = loader.load()"
      ],
      "metadata": {
        "id": "Rvk_nBtqo3b3"
      },
      "execution_count": null,
      "outputs": []
    },
    {
      "cell_type": "code",
      "source": [
        "from langchain.text_splitter import CharacterTextSplitter\n",
        "\n",
        "text_splitter = CharacterTextSplitter(chunk_size=1000, chunk_overlap=100)\n",
        "docs = text_splitter.split_documents(documents)"
      ],
      "metadata": {
        "id": "-qQZ5m5yroME",
        "colab": {
          "base_uri": "https://localhost:8080/"
        },
        "outputId": "0ad857d9-3eb5-4c17-963c-27620a44cc6e"
      },
      "execution_count": null,
      "outputs": [
        {
          "output_type": "stream",
          "name": "stderr",
          "text": [
            "WARNING:langchain.text_splitter:Created a chunk of size 2795, which is longer than the specified 1000\n"
          ]
        }
      ]
    },
    {
      "cell_type": "code",
      "source": [
        "from langchain.embeddings import HuggingFaceBgeEmbeddings\n",
        "\n",
        "model_name = \"BAAI/bge-base-en\"\n",
        "encode_kwargs = {'normalize_embeddings': True} # set True to compute cosine similarity\n",
        "\n",
        "model_norm = HuggingFaceBgeEmbeddings(\n",
        "    model_name=model_name,\n",
        "    model_kwargs={'device': 'cuda'},\n",
        "    encode_kwargs=encode_kwargs\n",
        ")"
      ],
      "metadata": {
        "id": "Te_e5HoBruUL"
      },
      "execution_count": null,
      "outputs": []
    },
    {
      "cell_type": "code",
      "source": [
        "persist_directory = 'db_req'\n",
        "\n",
        "## Here is the nmew embeddings being used\n",
        "embedding = model_norm\n",
        "\n",
        "vectordb = Chroma.from_documents(documents=docs,\n",
        "                                 embedding=embedding,\n",
        "                                 persist_directory=persist_directory)"
      ],
      "metadata": {
        "id": "t0PwKszir5es"
      },
      "execution_count": null,
      "outputs": []
    },
    {
      "cell_type": "code",
      "source": [
        "retriever = vectordb.as_retriever(search_kwargs={\"k\": 5})"
      ],
      "metadata": {
        "id": "IWx7bRA7s4NC"
      },
      "execution_count": null,
      "outputs": []
    },
    {
      "cell_type": "code",
      "source": [
        "from langchain.llms import OpenAI\n",
        "from langchain.embeddings import OpenAIEmbeddings\n",
        "\n",
        "openai_embeddings_model = OpenAIEmbeddings(openai_api_key=openai_key)"
      ],
      "metadata": {
        "id": "4R0BE669sFPz"
      },
      "execution_count": null,
      "outputs": []
    },
    {
      "cell_type": "code",
      "source": [
        "llm = TogetherLLM(\n",
        "    model= \"togethercomputer/falcon-40b-instruct\",\n",
        "    temperature = 0.1,\n",
        "    max_tokens = 2048\n",
        ")"
      ],
      "metadata": {
        "id": "12W64r4KsRpr"
      },
      "execution_count": null,
      "outputs": []
    },
    {
      "cell_type": "code",
      "source": [
        "llm = OpenAI(openai_api_key=\"sk-XXX\")"
      ],
      "metadata": {
        "id": "uzEXFUh3q7fQ"
      },
      "execution_count": null,
      "outputs": []
    },
    {
      "cell_type": "code",
      "source": [
        "from langchain.llms import OpenAI\n",
        "from langchain.chat_models import ChatOpenAI\n",
        "\n",
        "\n",
        "openai_llm = ChatOpenAI(openai_api_key=openai_key, model_name=\"gpt-3.5-turbo-16k\")"
      ],
      "metadata": {
        "id": "uAR7Z7UBsnL6"
      },
      "execution_count": null,
      "outputs": []
    },
    {
      "cell_type": "code",
      "source": [
        "from langchain.memory import ConversationBufferMemory\n",
        "from langchain import PromptTemplate"
      ],
      "metadata": {
        "id": "4dqHGMLnsZrq"
      },
      "execution_count": null,
      "outputs": []
    },
    {
      "cell_type": "code",
      "source": [
        "from langchain.prompts import PromptTemplate\n",
        "prompt_template = \"\"\"Use the software requirements specifications as the context. Here you will be asked to generate reuqirements.\n",
        "\n",
        "{context}\n",
        "\n",
        "Question: {question}\n",
        "Additional requirements specifications:\"\"\"\n",
        "PROMPT = PromptTemplate(\n",
        "    template=prompt_template, input_variables=[\"context\", \"question\"]\n",
        ")"
      ],
      "metadata": {
        "id": "O647aJIqyY_7"
      },
      "execution_count": null,
      "outputs": []
    },
    {
      "cell_type": "markdown",
      "source": [],
      "metadata": {
        "id": "AR02Qbv4N1Am"
      }
    },
    {
      "cell_type": "code",
      "source": [
        "from langchain.prompts import PromptTemplate\n",
        "prompt_template = \"\"\"Use the software requirements specifications as the context.\n",
        "Here you will be asked to create clusters based on the characteristics of the requirements specifications\n",
        "and cluster all the requirements statement appropriately\n",
        "\n",
        "\n",
        "{context}\n",
        "\n",
        "Question: {question}\n",
        "Different clusters along with requirement specification statements:\"\"\"\n",
        "PROMPT_cluster = PromptTemplate(\n",
        "    template=prompt_template, input_variables=[\"context\", \"question\"]\n",
        ")"
      ],
      "metadata": {
        "id": "3Ih_3zXNpcdE"
      },
      "execution_count": null,
      "outputs": []
    },
    {
      "cell_type": "markdown",
      "source": [
        "This prompt is generic and giving good result and also maintains the history"
      ],
      "metadata": {
        "id": "6EH6WoZKN4T9"
      }
    },
    {
      "cell_type": "code",
      "source": [
        "template = \"\"\"\n",
        "Use the following context (delimited by <ctx></ctx>) and the chat history (delimited by <hs></hs>) to answer the question:\n",
        "------\n",
        "<ctx>\n",
        "{context}\n",
        "</ctx>\n",
        "------\n",
        "<hs>\n",
        "{history}\n",
        "</hs>\n",
        "------\n",
        "{question}\n",
        "Answer:\n",
        "\"\"\"\n",
        "prompt = PromptTemplate(\n",
        "    input_variables=[\"history\", \"context\", \"question\"],\n",
        "    template=template,\n",
        ")"
      ],
      "metadata": {
        "id": "3ehBQQ-7scSS"
      },
      "execution_count": null,
      "outputs": []
    },
    {
      "cell_type": "code",
      "source": [
        "qa_chain = RetrievalQA.from_chain_type(llm=openai_llm,\n",
        "                                  chain_type=\"stuff\",\n",
        "                                  retriever=retriever,\n",
        "                                       chain_type_kwargs={\n",
        "                                            \"verbose\": True,\n",
        "                                            \"prompt\": prompt,\n",
        "                                            \"memory\": ConversationBufferMemory(\n",
        "                                                memory_key=\"history\",\n",
        "                                                input_key=\"question\"),\n",
        "                                        },\n",
        "                                  return_source_documents=True)"
      ],
      "metadata": {
        "id": "xxLXHis1sg_y"
      },
      "execution_count": null,
      "outputs": []
    },
    {
      "cell_type": "code",
      "source": [
        "qa_chain = RetrievalQA.from_chain_type(llm=openai_llm,\n",
        "                                  chain_type=\"stuff\",\n",
        "                                  retriever=retriever,\n",
        "                                  return_source_documents=True)"
      ],
      "metadata": {
        "id": "IiFQt02csjmi"
      },
      "execution_count": null,
      "outputs": []
    },
    {
      "cell_type": "code",
      "source": [
        "## Cite sources\n",
        "\n",
        "import textwrap\n",
        "\n",
        "def wrap_text_preserve_newlines(text, width=110):\n",
        "    # Split the input text into lines based on newline characters\n",
        "    lines = text.split('\\n')\n",
        "\n",
        "    # Wrap each line individually\n",
        "    wrapped_lines = [textwrap.fill(line, width=width) for line in lines]\n",
        "\n",
        "    # Join the wrapped lines back together using newline characters\n",
        "    wrapped_text = '\\n'.join(wrapped_lines)\n",
        "\n",
        "    return wrapped_text\n",
        "\n",
        "def process_llm_response(llm_response):\n",
        "    print(wrap_text_preserve_newlines(llm_response['result']))\n",
        "    print('\\n\\nSources:')\n",
        "    for source in llm_response[\"source_documents\"]:\n",
        "        print(source.metadata['source'])"
      ],
      "metadata": {
        "id": "EcI2W4P-s6xa"
      },
      "execution_count": null,
      "outputs": []
    },
    {
      "cell_type": "code",
      "source": [
        "query = \"\"\"Based on the knowledge, generate 5 additional requirements related to the project. Requirements should be well explained\n",
        "\"\"\"\n",
        "llm_response = qa_chain(query)\n",
        "process_llm_response(llm_response)\n",
        "text_content = llm_response['result']\n",
        "\n",
        "# Specify the file path where you want to save the content\n",
        "# file_path = 'cluster_info.txt'  # Change 'output.txt' to your desired file name and path\n",
        "\n",
        "# # Open the file in write mode and save the content\n",
        "# with open(file_path, 'w', encoding='utf-8') as file:\n",
        "#     file.write(text_content)\n",
        "\n",
        "# print(f\"Content saved to {file_path}\")"
      ],
      "metadata": {
        "colab": {
          "base_uri": "https://localhost:8080/"
        },
        "id": "gnp3ANUqtBcJ",
        "outputId": "13faaf69-c349-421c-f58e-79174ff0dbce"
      },
      "execution_count": null,
      "outputs": [
        {
          "output_type": "stream",
          "name": "stderr",
          "text": [
            "WARNING:chromadb.segment.impl.vector.local_persistent_hnsw:Number of requested results 8 is greater than number of elements in index 1, updating n_results = 1\n"
          ]
        },
        {
          "output_type": "stream",
          "name": "stdout",
          "text": [
            "\n",
            "\n",
            "1. The system shall allow for the creation of custom filters based on user-defined criteria.\n",
            "2. The system shall allow for the creation of custom views based on user-defined criteria.\n",
            "3. The system shall allow for the creation of custom reports based on user-defined criteria.\n",
            "4. The system shall allow for the export of data to external applications or formats.\n",
            "5. The system shall provide a user-friendly interface for managing and modifying the data.\n",
            "\n",
            "\n",
            "Sources:\n",
            "req_test.txt\n"
          ]
        }
      ]
    },
    {
      "cell_type": "code",
      "source": [
        "query = \"\"\"Generate 10 more additional requirements. The requirements should be long enough to explain the user need very well.\n",
        "\"\"\"\n",
        "llm_response = qa_chain(query)\n",
        "process_llm_response(llm_response)\n",
        "text_content = llm_response['result']"
      ],
      "metadata": {
        "colab": {
          "base_uri": "https://localhost:8080/"
        },
        "id": "-PJAD7m3uaL5",
        "outputId": "28c7f504-bd86-4521-ce27-6b0df647c204"
      },
      "execution_count": null,
      "outputs": [
        {
          "output_type": "stream",
          "name": "stderr",
          "text": [
            "WARNING:chromadb.segment.impl.vector.local_persistent_hnsw:Number of requested results 8 is greater than number of elements in index 1, updating n_results = 1\n"
          ]
        },
        {
          "output_type": "stream",
          "name": "stdout",
          "text": [
            "\n",
            "\n",
            "\u001b[1m> Entering new StuffDocumentsChain chain...\u001b[0m\n",
            "\n",
            "\n",
            "\u001b[1m> Entering new LLMChain chain...\u001b[0m\n",
            "Prompt after formatting:\n",
            "\u001b[32;1m\u001b[1;3mUse the software requirements specifications as the context. Here you will be asked to generate reuqirements.\n",
            "\n",
            "'The system shall refresh the display every 60 seconds.'\n",
            "'The application shall match the color of the schema set forth by Department of Homeland Security'\n",
            "'If projected  the data must be readable.  On a 10x10 projection screen  90% of viewers must be able to read Event / Activity data from a viewing distance of 30'\n",
            "'The product shall be available during normal business hours. As long as the user has access to the client PC  the system will be available 99% of the time during the first six months of operation.'\n",
            "'If projected  the data must be understandable. On a 10x10 projection screen  90% of viewers must be able to determine that Events or Activities are occuring in current time from a viewing distance of 100'\n",
            "'The product shall ensure that it can only be accessed by authorized users.  The product will be able to distinguish between authorized and unauthorized users in all access attempts'\n",
            "'The product shall be intuitive and self-explanatory. 90% of new users shall be able to start the display of Events or Activities within 90 minutes of using the product.'\n",
            "'The product shall respond fast to keep up-to-date data in the display.'\n",
            "'The system shall have a MDI form that allows for the viewing of the graph and the data table.'\n",
            "'The system shall display Events in a vertical table by time.'\n",
            "'The system shall display the Events in a graph by time.'\n",
            "'The system shall display Events or Activities.'\n",
            "'The display shall have two regions:  left 2/3 of the display is graphical  right 1/3 of the display is a data table'\n",
            "'The data displayed in both the nodes within the graph and the rows in the table are MSEL Summary data'\n",
            "'The table side of the display shall be split into 2 regions: sequential and temporal.'\n",
            "'The top 1/4 of the table will hold events that are to occur sequentially.'\n",
            "'The bottom 3/4 of the table will hold events that occur according to its relevance to current time.'\n",
            "'The system shall color code events according to their variance from current time.'\n",
            "'The system shall display data from the Sync Matrix 1.0 and Exercise Management Tool 1.0 applications'\n",
            "'The system shall link Events back to either the Sync Matrix 1.0 or the Exercise Managment Tool 1.0 applications for modifications.'\n",
            "'The system shall allow modification of the display.'\n",
            "'The system shall offer a display of all the Events in the exercise.'\n",
            "'The system shall filter data by: Venues and Key Events.'\n",
            "'The system shall allow a user to define the time segments'\n",
            "'The system shall display the local and exercise time in separate clocks'\n",
            "'The system shall offer the ability to pause and resume the refresh of data.'\n",
            "'The system shall provide charts for the Activity or Event actual versus assumed time.'\n",
            "'The system shall provide a history report of changes made to the Activity or Event data'\n",
            "\n",
            "Question: Generate 10 more additional requirements. The requirements should be long enough to explain the user need very well.\n",
            "\n",
            "Additional requirements specifications:\u001b[0m\n",
            "\n",
            "\u001b[1m> Finished chain.\u001b[0m\n",
            "\n",
            "\u001b[1m> Finished chain.\u001b[0m\n",
            "\n",
            "1. The system shall display a timeline for each Activity or Event that displays expected start and end times.\n",
            "2. The system shall provide an alert notification when an Activity or Event is running late or ahead of\n",
            "schedule.\n",
            "3. The system shall display a legend that allows the user to quickly distinguish between the Event or Activity\n",
            "data visible on the screen.\n",
            "4. The system shall calculate the total elapsed time for each Activity or Event.\n",
            "5. The system shall allow the user to perform a manual refresh of the data displayed.\n",
            "6. The system shall provide a graphical representation of the data in the form of a Gantt chart.\n",
            "7. The system shall provide drill-down capabilities that allow the user to view more detailed information\n",
            "about the Events or Activities.\n",
            "8. The system shall provide the ability to filter Events or Activities by Venue or Key Event.\n",
            "9. The system shall provide the ability to compare actual versus assumed times for Events or Activities.\n",
            "10. The system shall provide the user with the ability to export data to a specified file format (e.g. CSV,\n",
            "XML, etc.).\n",
            "\n",
            "\n",
            "Sources:\n",
            "req_test.txt\n"
          ]
        }
      ]
    },
    {
      "cell_type": "code",
      "source": [
        "query = \"\"\"Create clusters of related requirements specification statements.\n",
        "Consider all the requirements specification statements. Give appropriate name of the clusters and cluster all the requirements statement appropriately.\n",
        "\"\"\"\n",
        "llm_response = qa_chain(query)\n",
        "process_llm_response(llm_response)\n",
        "text_content = llm_response['result']"
      ],
      "metadata": {
        "colab": {
          "base_uri": "https://localhost:8080/"
        },
        "id": "v8SveUFUjA7D",
        "outputId": "d62aa9aa-12b9-4142-82bf-b3832037b4be"
      },
      "execution_count": null,
      "outputs": [
        {
          "output_type": "stream",
          "name": "stderr",
          "text": [
            "WARNING:chromadb.segment.impl.vector.local_persistent_hnsw:Number of requested results 5 is greater than number of elements in index 3, updating n_results = 3\n"
          ]
        },
        {
          "output_type": "stream",
          "name": "stdout",
          "text": [
            "Cluster 1: Display and Visualization\n",
            "\n",
            "- The system shall refresh the display every 60 seconds.\n",
            "- The application shall match the color of the schema set forth by Department of Homeland Security.\n",
            "- If projected, the data must be readable. On a 10x10 projection screen, 90% of viewers must be able to read\n",
            "Event / Activity data from a viewing distance of 30.\n",
            "- If projected, the data must be understandable. On a 10x10 projection screen, 90% of viewers must be able to\n",
            "determine that Events or Activities are occurring in current time from a viewing distance of 100.\n",
            "- The system shall have a MDI form that allows for the viewing of the graph and the data table.\n",
            "- The system shall display Events in a vertical table by time.\n",
            "- The system shall display the Events in a graph by time.\n",
            "- The display shall have two regions: left 2/3 of the display is graphical, right 1/3 of the display is a data\n",
            "table.\n",
            "- The data displayed in both the nodes within the graph and the rows in the table are MSEL Summary data.\n",
            "- The table side of the display shall be split into 2 regions: sequential and temporal.\n",
            "- The top 1/4 of the table will hold events that are to occur sequentially.\n",
            "- The bottom 3/4 of the table will hold events that occur according to its relevance to current time.\n",
            "- The system shall color code events according to their variance from current time.\n",
            "- The system shall display data from the Sync Matrix 1.0 and Exercise Management Tool 1.0 applications.\n",
            "- The system shall link Events back to either the Sync Matrix 1.0 or the Exercise Management Tool 1.0\n",
            "applications for modifications.\n",
            "- The system shall allow modification of the display.\n",
            "- The system shall offer a display of all the Events in the exercise.\n",
            "- The system shall filter data by: Venues and Key Events.\n",
            "- The system shall display the local and exercise time in separate clocks.\n",
            "- The system shall offer the ability to pause and resume the refresh of data.\n",
            "- The system shall provide charts for the Activity or Event actual versus assumed time.\n",
            "- The system shall provide a history report of changes made to the Activity or Event data.\n",
            "\n",
            "Cluster 2: User Interface and Usability\n",
            "\n",
            "- The product shall be intuitive and self-explanatory. 90% of new users shall be able to start the display of\n",
            "Events or Activities within 90 minutes of using the product.\n",
            "- The system shall respond fast to keep up-to-date data in the display.\n",
            "- The system shall be able to display Activity or Event data in a timeline format.\n",
            "- The system shall be able to display Activity or Event data in a Gantt chart format.\n",
            "- The system shall provide alerts when an Activity or Events is approaching its due date.\n",
            "- The system shall be able to sort Activity or Events by time, priority, and venue.\n",
            "- The system shall be able to generate reports on Activity or Events.\n",
            "- The system shall be able to add custom fields to Activity or Event records.\n",
            "- The system shall store all Activity or Event data securely and be accessible only to authorized users.\n",
            "- The system shall provide a searchable interface for Activity or Event data.\n",
            "- The system shall be able to export Activity or Event data into various formats.\n",
            "\n",
            "Cluster 3: Functionality and Features\n",
            "\n",
            "- The system shall provide an audit trail for all changes made to the Activity or Event data.\n",
            "- The system shall provide a graphical representation of the data in the form of a Gantt chart.\n",
            "- The system shall calculate the total elapsed time for each Activity or Event.\n",
            "- The system shall allow the user to perform a manual refresh of the data displayed.\n",
            "- The system shall provide drill-down capabilities that allow the user to view more detailed information about\n",
            "the Events or Activities.\n",
            "- The system shall provide the ability to filter Events or Activities by Venue or Key Event.\n",
            "- The system shall provide the ability to compare actual versus assumed times for Events or Activities.\n",
            "- The system shall provide the user with the ability to export data to a specified file format (e.g. CSV, XML,\n",
            "etc.).\n",
            "\n",
            "Note: The clusters and their names are subjective and can vary based on interpretation.\n",
            "\n",
            "\n",
            "Sources:\n",
            "req_test.txt\n",
            "req_test.txt\n",
            "req_test.txt\n"
          ]
        }
      ]
    },
    {
      "cell_type": "code",
      "source": [
        "query = \"\"\"Create clusters of related requirements specification statements.\n",
        "Consider all the requirements specification statements. Give appropriate name of the clusters and cluster all the requirements statement appropriately.\n",
        "\"\"\"\n",
        "llm_response = qa_chain(query)\n",
        "process_llm_response(llm_response)\n",
        "text_content = llm_response['result']"
      ],
      "metadata": {
        "colab": {
          "base_uri": "https://localhost:8080/"
        },
        "id": "qiehppIAqG_p",
        "outputId": "77baac70-24c4-4ab8-f676-655f80bfc6bb"
      },
      "execution_count": null,
      "outputs": [
        {
          "output_type": "stream",
          "name": "stderr",
          "text": [
            "WARNING:chromadb.segment.impl.vector.local_persistent_hnsw:Number of requested results 5 is greater than number of elements in index 3, updating n_results = 3\n"
          ]
        },
        {
          "output_type": "stream",
          "name": "stdout",
          "text": [
            "\n",
            "\n",
            "\u001b[1m> Entering new StuffDocumentsChain chain...\u001b[0m\n",
            "\n",
            "\n",
            "\u001b[1m> Entering new LLMChain chain...\u001b[0m\n",
            "Prompt after formatting:\n",
            "\u001b[32;1m\u001b[1;3m\n",
            "Use the following context (delimited by <ctx></ctx>) and the chat history (delimited by <hs></hs>) to answer the question:\n",
            "------\n",
            "<ctx>\n",
            "'The system shall refresh the display every 60 seconds.'\n",
            "'The application shall match the color of the schema set forth by Department of Homeland Security'\n",
            "'If projected  the data must be readable.  On a 10x10 projection screen  90% of viewers must be able to read Event / Activity data from a viewing distance of 30'\n",
            "'The product shall be available during normal business hours. As long as the user has access to the client PC  the system will be available 99% of the time during the first six months of operation.'\n",
            "'If projected  the data must be understandable. On a 10x10 projection screen  90% of viewers must be able to determine that Events or Activities are occuring in current time from a viewing distance of 100'\n",
            "'The product shall ensure that it can only be accessed by authorized users.  The product will be able to distinguish between authorized and unauthorized users in all access attempts'\n",
            "'The product shall be intuitive and self-explanatory. 90% of new users shall be able to start the display of Events or Activities within 90 minutes of using the product.'\n",
            "'The product shall respond fast to keep up-to-date data in the display.'\n",
            "'The system shall have a MDI form that allows for the viewing of the graph and the data table.'\n",
            "'The system shall display Events in a vertical table by time.'\n",
            "'The system shall display the Events in a graph by time.'\n",
            "'The system shall display Events or Activities.'\n",
            "'The display shall have two regions:  left 2/3 of the display is graphical  right 1/3 of the display is a data table'\n",
            "'The data displayed in both the nodes within the graph and the rows in the table are MSEL Summary data'\n",
            "'The table side of the display shall be split into 2 regions: sequential and temporal.'\n",
            "'The top 1/4 of the table will hold events that are to occur sequentially.'\n",
            "'The bottom 3/4 of the table will hold events that occur according to its relevance to current time.'\n",
            "'The system shall color code events according to their variance from current time.'\n",
            "'The system shall display data from the Sync Matrix 1.0 and Exercise Management Tool 1.0 applications'\n",
            "'The system shall link Events back to either the Sync Matrix 1.0 or the Exercise Managment Tool 1.0 applications for modifications.'\n",
            "'The system shall allow modification of the display.'\n",
            "'The system shall offer a display of all the Events in the exercise.'\n",
            "'The system shall filter data by: Venues and Key Events.'\n",
            "'The system shall allow a user to define the time segments'\n",
            "'The system shall display the local and exercise time in separate clocks'\n",
            "'The system shall offer the ability to pause and resume the refresh of data.'\n",
            "'The system shall provide charts for the Activity or Event actual versus assumed time.'\n",
            "'The system shall provide a history report of changes made to the Activity or Event data'\n",
            "\n",
            "The system shall provide an audit trail for all changes made to the Activity or Event data.\n",
            "The system shall be able to display Activity or Event data in a timeline format.\n",
            "The system shall be able to display Activity or Event data in a Gantt chart format.\n",
            "The system shall provide alerts when an Activity or Events is approaching its due date.\n",
            "The system shall be able to sort Activity or Events by time, priority, and venue.\n",
            "The system shall be able to generate reports on Activity or Events.\n",
            " The system shall be able to add custom fields to Activity or Event records.\n",
            "The system shall store all Activity or Event data securely and be accessible only to authorized users.\n",
            "The system shall provide a searchable interface for Activity or Event data.\n",
            "The system shall be able to export Activity or Event data into various formats.\n",
            "\n",
            "The system shall display a timeline for each Activity or Event that displays expected start and end times.\n",
            "The system shall provide an alert notification when an Activity or Event is running late or ahead of\n",
            "schedule.\n",
            "The system shall display a legend that allows the user to quickly distinguish between the Event or Activity\n",
            "data visible on the screen.\n",
            "The system shall calculate the total elapsed time for each Activity or Event.\n",
            "The system shall allow the user to perform a manual refresh of the data displayed.\n",
            "The system shall provide a graphical representation of the data in the form of a Gantt chart.\n",
            "The system shall provide drill-down capabilities that allow the user to view more detailed information\n",
            "about the Events or Activities.\n",
            "The system shall provide the ability to filter Events or Activities by Venue or Key Event.\n",
            "The system shall provide the ability to compare actual versus assumed times for Events or Activities.\n",
            "The system shall provide the user with the ability to export data to a specified file format (e.g. CSV,\n",
            "XML, etc.).\n",
            "</ctx>\n",
            "------\n",
            "<hs>\n",
            "\n",
            "</hs>\n",
            "------\n",
            "Create clusters of related requirements specification statements. \n",
            "Consider all the requirements specification statements. Give appropriate name of the clusters and cluster all the requirements statement appropriately.\n",
            "\n",
            "Answer:\n",
            "\u001b[0m\n",
            "\n",
            "\u001b[1m> Finished chain.\u001b[0m\n",
            "\n",
            "\u001b[1m> Finished chain.\u001b[0m\n",
            "Cluster 1: Display and Visualization\n",
            "- The system shall refresh the display every 60 seconds.\n",
            "- The system shall have a MDI form that allows for the viewing of the graph and the data table.\n",
            "- The system shall display Events in a vertical table by time.\n",
            "- The system shall display the Events in a graph by time.\n",
            "- The display shall have two regions: left 2/3 of the display is graphical, right 1/3 of the display is a data\n",
            "table.\n",
            "- The table side of the display shall be split into 2 regions: sequential and temporal.\n",
            "- The top 1/4 of the table will hold events that are to occur sequentially.\n",
            "- The bottom 3/4 of the table will hold events that occur according to its relevance to current time.\n",
            "- The system shall color code events according to their variance from current time.\n",
            "- The system shall display a timeline for each Activity or Event that displays expected start and end times.\n",
            "- The system shall provide a graphical representation of the data in the form of a Gantt chart.\n",
            "- The system shall provide drill-down capabilities that allow the user to view more detailed information about\n",
            "the Events or Activities.\n",
            "- The system shall calculate the total elapsed time for each Activity or Event.\n",
            "- The system shall allow the user to perform a manual refresh of the data displayed.\n",
            "- The system shall provide a legend that allows the user to quickly distinguish between the Event or Activity\n",
            "data visible on the screen.\n",
            "\n",
            "Cluster 2: Data Management and Security\n",
            "- The product shall ensure that it can only be accessed by authorized users. The product will be able to\n",
            "distinguish between authorized and unauthorized users in all access attempts.\n",
            "- The system shall link Events back to either the Sync Matrix 1.0 or the Exercise Management Tool 1.0\n",
            "applications for modifications.\n",
            "- The system shall allow modification of the display.\n",
            "- The system shall store all Activity or Event data securely and be accessible only to authorized users.\n",
            "- The system shall provide a searchable interface for Activity or Event data.\n",
            "- The system shall be able to export Activity or Event data into various formats.\n",
            "\n",
            "Cluster 3: Functionality and Usability\n",
            "- The product shall be intuitive and self-explanatory. 90% of new users shall be able to start the display of\n",
            "Events or Activities within 90 minutes of using the product.\n",
            "- The system shall respond fast to keep up-to-date data in the display.\n",
            "- The system shall offer a display of all the Events in the exercise.\n",
            "- The system shall filter data by: Venues and Key Events.\n",
            "- The system shall allow a user to define the time segments.\n",
            "- The system shall display the local and exercise time in separate clocks.\n",
            "- The system shall offer the ability to pause and resume the refresh of data.\n",
            "- The system shall provide charts for the Activity or Event actual versus assumed time.\n",
            "- The system shall provide a history report of changes made to the Activity or Event data.\n",
            "- The system shall provide an audit trail for all changes made to the Activity or Event data.\n",
            "- The system shall be able to sort Activity or Events by time, priority, and venue.\n",
            "- The system shall be able to generate reports on Activity or Events.\n",
            "- The system shall be able to add custom fields to Activity or Event records.\n",
            "- The system shall provide alerts when an Activity or Events is approaching its due date.\n",
            "- The system shall provide an alert notification when an Activity or Event is running late or ahead of\n",
            "schedule.\n",
            "- The system shall provide the user with the ability to export data to a specified file format (e.g. CSV, XML,\n",
            "etc.).\n",
            "- The system shall provide the ability to compare actual versus assumed times for Events or Activities.\n",
            "- The system shall provide the ability to filter Events or Activities by Venue or Key Event.\n",
            "\n",
            "\n",
            "Sources:\n",
            "req_test.txt\n",
            "req_test.txt\n",
            "req_test.txt\n"
          ]
        }
      ]
    },
    {
      "cell_type": "code",
      "source": [
        "query = \"\"\"Highlight key features in bullet points for each of the clusters.\n",
        "\"\"\"\n",
        "llm_response = qa_chain(query)\n",
        "process_llm_response(llm_response)\n",
        "text_content = llm_response['result']"
      ],
      "metadata": {
        "colab": {
          "base_uri": "https://localhost:8080/"
        },
        "id": "5ZTxWnAlrgzv",
        "outputId": "3a71bd64-8e51-4e56-9278-0aad275d5d1b"
      },
      "execution_count": null,
      "outputs": [
        {
          "output_type": "stream",
          "name": "stderr",
          "text": [
            "WARNING:chromadb.segment.impl.vector.local_persistent_hnsw:Number of requested results 5 is greater than number of elements in index 3, updating n_results = 3\n"
          ]
        },
        {
          "output_type": "stream",
          "name": "stdout",
          "text": [
            "\n",
            "\n",
            "\u001b[1m> Entering new StuffDocumentsChain chain...\u001b[0m\n",
            "\n",
            "\n",
            "\u001b[1m> Entering new LLMChain chain...\u001b[0m\n",
            "Prompt after formatting:\n",
            "\u001b[32;1m\u001b[1;3m\n",
            "Use the following context (delimited by <ctx></ctx>) and the chat history (delimited by <hs></hs>) to answer the question:\n",
            "------\n",
            "<ctx>\n",
            "'The system shall refresh the display every 60 seconds.'\n",
            "'The application shall match the color of the schema set forth by Department of Homeland Security'\n",
            "'If projected  the data must be readable.  On a 10x10 projection screen  90% of viewers must be able to read Event / Activity data from a viewing distance of 30'\n",
            "'The product shall be available during normal business hours. As long as the user has access to the client PC  the system will be available 99% of the time during the first six months of operation.'\n",
            "'If projected  the data must be understandable. On a 10x10 projection screen  90% of viewers must be able to determine that Events or Activities are occuring in current time from a viewing distance of 100'\n",
            "'The product shall ensure that it can only be accessed by authorized users.  The product will be able to distinguish between authorized and unauthorized users in all access attempts'\n",
            "'The product shall be intuitive and self-explanatory. 90% of new users shall be able to start the display of Events or Activities within 90 minutes of using the product.'\n",
            "'The product shall respond fast to keep up-to-date data in the display.'\n",
            "'The system shall have a MDI form that allows for the viewing of the graph and the data table.'\n",
            "'The system shall display Events in a vertical table by time.'\n",
            "'The system shall display the Events in a graph by time.'\n",
            "'The system shall display Events or Activities.'\n",
            "'The display shall have two regions:  left 2/3 of the display is graphical  right 1/3 of the display is a data table'\n",
            "'The data displayed in both the nodes within the graph and the rows in the table are MSEL Summary data'\n",
            "'The table side of the display shall be split into 2 regions: sequential and temporal.'\n",
            "'The top 1/4 of the table will hold events that are to occur sequentially.'\n",
            "'The bottom 3/4 of the table will hold events that occur according to its relevance to current time.'\n",
            "'The system shall color code events according to their variance from current time.'\n",
            "'The system shall display data from the Sync Matrix 1.0 and Exercise Management Tool 1.0 applications'\n",
            "'The system shall link Events back to either the Sync Matrix 1.0 or the Exercise Managment Tool 1.0 applications for modifications.'\n",
            "'The system shall allow modification of the display.'\n",
            "'The system shall offer a display of all the Events in the exercise.'\n",
            "'The system shall filter data by: Venues and Key Events.'\n",
            "'The system shall allow a user to define the time segments'\n",
            "'The system shall display the local and exercise time in separate clocks'\n",
            "'The system shall offer the ability to pause and resume the refresh of data.'\n",
            "'The system shall provide charts for the Activity or Event actual versus assumed time.'\n",
            "'The system shall provide a history report of changes made to the Activity or Event data'\n",
            "\n",
            "The system shall display a timeline for each Activity or Event that displays expected start and end times.\n",
            "The system shall provide an alert notification when an Activity or Event is running late or ahead of\n",
            "schedule.\n",
            "The system shall display a legend that allows the user to quickly distinguish between the Event or Activity\n",
            "data visible on the screen.\n",
            "The system shall calculate the total elapsed time for each Activity or Event.\n",
            "The system shall allow the user to perform a manual refresh of the data displayed.\n",
            "The system shall provide a graphical representation of the data in the form of a Gantt chart.\n",
            "The system shall provide drill-down capabilities that allow the user to view more detailed information\n",
            "about the Events or Activities.\n",
            "The system shall provide the ability to filter Events or Activities by Venue or Key Event.\n",
            "The system shall provide the ability to compare actual versus assumed times for Events or Activities.\n",
            "The system shall provide the user with the ability to export data to a specified file format (e.g. CSV,\n",
            "XML, etc.).\n",
            "\n",
            "The system shall provide an audit trail for all changes made to the Activity or Event data.\n",
            "The system shall be able to display Activity or Event data in a timeline format.\n",
            "The system shall be able to display Activity or Event data in a Gantt chart format.\n",
            "The system shall provide alerts when an Activity or Events is approaching its due date.\n",
            "The system shall be able to sort Activity or Events by time, priority, and venue.\n",
            "The system shall be able to generate reports on Activity or Events.\n",
            " The system shall be able to add custom fields to Activity or Event records.\n",
            "The system shall store all Activity or Event data securely and be accessible only to authorized users.\n",
            "The system shall provide a searchable interface for Activity or Event data.\n",
            "The system shall be able to export Activity or Event data into various formats.\n",
            "</ctx>\n",
            "------\n",
            "<hs>\n",
            "Human: Create clusters of related requirements specification statements. \n",
            "Consider all the requirements specification statements. Give appropriate name of the clusters and cluster all the requirements statement appropriately.\n",
            "\n",
            "AI: Cluster 1: Display and Visualization\n",
            "- The system shall refresh the display every 60 seconds.\n",
            "- The system shall have a MDI form that allows for the viewing of the graph and the data table.\n",
            "- The system shall display Events in a vertical table by time.\n",
            "- The system shall display the Events in a graph by time.\n",
            "- The display shall have two regions: left 2/3 of the display is graphical, right 1/3 of the display is a data table.\n",
            "- The table side of the display shall be split into 2 regions: sequential and temporal.\n",
            "- The top 1/4 of the table will hold events that are to occur sequentially.\n",
            "- The bottom 3/4 of the table will hold events that occur according to its relevance to current time.\n",
            "- The system shall color code events according to their variance from current time.\n",
            "- The system shall display a timeline for each Activity or Event that displays expected start and end times.\n",
            "- The system shall provide a graphical representation of the data in the form of a Gantt chart.\n",
            "- The system shall provide drill-down capabilities that allow the user to view more detailed information about the Events or Activities.\n",
            "- The system shall calculate the total elapsed time for each Activity or Event.\n",
            "- The system shall allow the user to perform a manual refresh of the data displayed.\n",
            "- The system shall provide a legend that allows the user to quickly distinguish between the Event or Activity data visible on the screen.\n",
            "\n",
            "Cluster 2: Data Management and Security\n",
            "- The product shall ensure that it can only be accessed by authorized users. The product will be able to distinguish between authorized and unauthorized users in all access attempts.\n",
            "- The system shall link Events back to either the Sync Matrix 1.0 or the Exercise Management Tool 1.0 applications for modifications.\n",
            "- The system shall allow modification of the display.\n",
            "- The system shall store all Activity or Event data securely and be accessible only to authorized users.\n",
            "- The system shall provide a searchable interface for Activity or Event data.\n",
            "- The system shall be able to export Activity or Event data into various formats.\n",
            "\n",
            "Cluster 3: Functionality and Usability\n",
            "- The product shall be intuitive and self-explanatory. 90% of new users shall be able to start the display of Events or Activities within 90 minutes of using the product.\n",
            "- The system shall respond fast to keep up-to-date data in the display.\n",
            "- The system shall offer a display of all the Events in the exercise.\n",
            "- The system shall filter data by: Venues and Key Events.\n",
            "- The system shall allow a user to define the time segments.\n",
            "- The system shall display the local and exercise time in separate clocks.\n",
            "- The system shall offer the ability to pause and resume the refresh of data.\n",
            "- The system shall provide charts for the Activity or Event actual versus assumed time.\n",
            "- The system shall provide a history report of changes made to the Activity or Event data.\n",
            "- The system shall provide an audit trail for all changes made to the Activity or Event data.\n",
            "- The system shall be able to sort Activity or Events by time, priority, and venue.\n",
            "- The system shall be able to generate reports on Activity or Events.\n",
            "- The system shall be able to add custom fields to Activity or Event records.\n",
            "- The system shall provide alerts when an Activity or Events is approaching its due date.\n",
            "- The system shall provide an alert notification when an Activity or Event is running late or ahead of schedule.\n",
            "- The system shall provide the user with the ability to export data to a specified file format (e.g. CSV, XML, etc.).\n",
            "- The system shall provide the ability to compare actual versus assumed times for Events or Activities.\n",
            "- The system shall provide the ability to filter Events or Activities by Venue or Key Event.\n",
            "</hs>\n",
            "------\n",
            "Highlight key features in bullet points for each of the clusters.\n",
            "\n",
            "Answer:\n",
            "\u001b[0m\n",
            "\n",
            "\u001b[1m> Finished chain.\u001b[0m\n",
            "\n",
            "\u001b[1m> Finished chain.\u001b[0m\n",
            "Cluster 1: Display and Visualization\n",
            "- Refresh display every 60 seconds\n",
            "- MDI form for viewing graph and data table\n",
            "- Display events in a vertical table by time\n",
            "- Display events in a graph by time\n",
            "- Two regions on display: graphical and data table\n",
            "- Color code events according to variance from current time\n",
            "- Display timeline for each activity or event with start and end times\n",
            "- Provide graphical representation with Gantt chart\n",
            "- Allow drill-down capabilities for more detailed information\n",
            "- Calculate total elapsed time for each activity or event\n",
            "- Manual refresh option\n",
            "- Provide legend for quick distinction of event or activity data\n",
            "\n",
            "Cluster 2: Data Management and Security\n",
            "- Access control for authorized users\n",
            "- Link events to other applications for modifications\n",
            "- Allow modification of display\n",
            "- Securely store and limit access to activity or event data\n",
            "- Provide searchable interface for data\n",
            "- Export data in various formats\n",
            "\n",
            "Cluster 3: Functionality and Usability\n",
            "- Intuitive and self-explanatory product\n",
            "- Fast response to keep up-to-date data\n",
            "- Display all events in the exercise\n",
            "- Filter data by venues and key events\n",
            "- Allow user-defined time segments\n",
            "- Display local and exercise time separately\n",
            "- Pause and resume data refresh\n",
            "- Provide charts for actual versus assumed time\n",
            "- History report of changes made to data\n",
            "- Audit trail for all changes made\n",
            "- Sort events by time, priority, and venue\n",
            "- Generate reports on events\n",
            "- Add custom fields to records\n",
            "- Alerts for approaching due dates\n",
            "- Alert notification for events running late or ahead of schedule\n",
            "- Export data to specified file format\n",
            "- Compare actual versus assumed times\n",
            "- Filter events by venue or key event\n",
            "\n",
            "\n",
            "Sources:\n",
            "req_test.txt\n",
            "req_test.txt\n",
            "req_test.txt\n"
          ]
        }
      ]
    },
    {
      "cell_type": "code",
      "source": [
        "query = \"\"\"Based on the list of requirements, identify all the conflicts among the requirements.\n",
        "Give a list which requirement might be in conflict with other requirements or have a conflict among them along with conflict scores 1 to 10. 10 is the highest and 1 is the lowest.\n",
        "\"\"\"\n",
        "llm_response = qa_chain(query)\n",
        "process_llm_response(llm_response)\n",
        "text_content = llm_response['result']"
      ],
      "metadata": {
        "colab": {
          "base_uri": "https://localhost:8080/"
        },
        "id": "J_Mboa0WuXuE",
        "outputId": "2bd31bf3-94e9-4aaa-a131-6ef21913f20c"
      },
      "execution_count": null,
      "outputs": [
        {
          "output_type": "stream",
          "name": "stderr",
          "text": [
            "WARNING:chromadb.segment.impl.vector.local_persistent_hnsw:Number of requested results 5 is greater than number of elements in index 3, updating n_results = 3\n"
          ]
        },
        {
          "output_type": "stream",
          "name": "stdout",
          "text": [
            "\n",
            "\n",
            "\u001b[1m> Entering new StuffDocumentsChain chain...\u001b[0m\n",
            "\n",
            "\n",
            "\u001b[1m> Entering new LLMChain chain...\u001b[0m\n",
            "Prompt after formatting:\n",
            "\u001b[32;1m\u001b[1;3m\n",
            "Use the following context (delimited by <ctx></ctx>) and the chat history (delimited by <hs></hs>) to answer the question:\n",
            "------\n",
            "<ctx>\n",
            "'The system shall refresh the display every 60 seconds.'\n",
            "'The application shall match the color of the schema set forth by Department of Homeland Security'\n",
            "'If projected  the data must be readable.  On a 10x10 projection screen  90% of viewers must be able to read Event / Activity data from a viewing distance of 30'\n",
            "'The product shall be available during normal business hours. As long as the user has access to the client PC  the system will be available 99% of the time during the first six months of operation.'\n",
            "'If projected  the data must be understandable. On a 10x10 projection screen  90% of viewers must be able to determine that Events or Activities are occuring in current time from a viewing distance of 100'\n",
            "'The product shall ensure that it can only be accessed by authorized users.  The product will be able to distinguish between authorized and unauthorized users in all access attempts'\n",
            "'The product shall be intuitive and self-explanatory. 90% of new users shall be able to start the display of Events or Activities within 90 minutes of using the product.'\n",
            "'The product shall respond fast to keep up-to-date data in the display.'\n",
            "'The system shall have a MDI form that allows for the viewing of the graph and the data table.'\n",
            "'The system shall display Events in a vertical table by time.'\n",
            "'The system shall display the Events in a graph by time.'\n",
            "'The system shall display Events or Activities.'\n",
            "'The display shall have two regions:  left 2/3 of the display is graphical  right 1/3 of the display is a data table'\n",
            "'The data displayed in both the nodes within the graph and the rows in the table are MSEL Summary data'\n",
            "'The table side of the display shall be split into 2 regions: sequential and temporal.'\n",
            "'The top 1/4 of the table will hold events that are to occur sequentially.'\n",
            "'The bottom 3/4 of the table will hold events that occur according to its relevance to current time.'\n",
            "'The system shall color code events according to their variance from current time.'\n",
            "'The system shall display data from the Sync Matrix 1.0 and Exercise Management Tool 1.0 applications'\n",
            "'The system shall link Events back to either the Sync Matrix 1.0 or the Exercise Managment Tool 1.0 applications for modifications.'\n",
            "'The system shall allow modification of the display.'\n",
            "'The system shall offer a display of all the Events in the exercise.'\n",
            "'The system shall filter data by: Venues and Key Events.'\n",
            "'The system shall allow a user to define the time segments'\n",
            "'The system shall display the local and exercise time in separate clocks'\n",
            "'The system shall offer the ability to pause and resume the refresh of data.'\n",
            "'The system shall provide charts for the Activity or Event actual versus assumed time.'\n",
            "'The system shall provide a history report of changes made to the Activity or Event data'\n",
            "\n",
            "The system shall display a timeline for each Activity or Event that displays expected start and end times.\n",
            "The system shall provide an alert notification when an Activity or Event is running late or ahead of\n",
            "schedule.\n",
            "The system shall display a legend that allows the user to quickly distinguish between the Event or Activity\n",
            "data visible on the screen.\n",
            "The system shall calculate the total elapsed time for each Activity or Event.\n",
            "The system shall allow the user to perform a manual refresh of the data displayed.\n",
            "The system shall provide a graphical representation of the data in the form of a Gantt chart.\n",
            "The system shall provide drill-down capabilities that allow the user to view more detailed information\n",
            "about the Events or Activities.\n",
            "The system shall provide the ability to filter Events or Activities by Venue or Key Event.\n",
            "The system shall provide the ability to compare actual versus assumed times for Events or Activities.\n",
            "The system shall provide the user with the ability to export data to a specified file format (e.g. CSV,\n",
            "XML, etc.).\n",
            "\n",
            "The system shall provide an audit trail for all changes made to the Activity or Event data.\n",
            "The system shall be able to display Activity or Event data in a timeline format.\n",
            "The system shall be able to display Activity or Event data in a Gantt chart format.\n",
            "The system shall provide alerts when an Activity or Events is approaching its due date.\n",
            "The system shall be able to sort Activity or Events by time, priority, and venue.\n",
            "The system shall be able to generate reports on Activity or Events.\n",
            " The system shall be able to add custom fields to Activity or Event records.\n",
            "The system shall store all Activity or Event data securely and be accessible only to authorized users.\n",
            "The system shall provide a searchable interface for Activity or Event data.\n",
            "The system shall be able to export Activity or Event data into various formats.\n",
            "</ctx>\n",
            "------\n",
            "<hs>\n",
            "Human: Create clusters of related requirements specification statements. \n",
            "Consider all the requirements specification statements. Give appropriate name of the clusters and cluster all the requirements statement appropriately.\n",
            "\n",
            "AI: Cluster 1: Display and Visualization\n",
            "- The system shall refresh the display every 60 seconds.\n",
            "- The system shall have a MDI form that allows for the viewing of the graph and the data table.\n",
            "- The system shall display Events in a vertical table by time.\n",
            "- The system shall display the Events in a graph by time.\n",
            "- The display shall have two regions: left 2/3 of the display is graphical, right 1/3 of the display is a data table.\n",
            "- The table side of the display shall be split into 2 regions: sequential and temporal.\n",
            "- The top 1/4 of the table will hold events that are to occur sequentially.\n",
            "- The bottom 3/4 of the table will hold events that occur according to its relevance to current time.\n",
            "- The system shall color code events according to their variance from current time.\n",
            "- The system shall display a timeline for each Activity or Event that displays expected start and end times.\n",
            "- The system shall provide a graphical representation of the data in the form of a Gantt chart.\n",
            "- The system shall provide drill-down capabilities that allow the user to view more detailed information about the Events or Activities.\n",
            "- The system shall calculate the total elapsed time for each Activity or Event.\n",
            "- The system shall allow the user to perform a manual refresh of the data displayed.\n",
            "- The system shall provide a legend that allows the user to quickly distinguish between the Event or Activity data visible on the screen.\n",
            "\n",
            "Cluster 2: Data Management and Security\n",
            "- The product shall ensure that it can only be accessed by authorized users. The product will be able to distinguish between authorized and unauthorized users in all access attempts.\n",
            "- The system shall link Events back to either the Sync Matrix 1.0 or the Exercise Management Tool 1.0 applications for modifications.\n",
            "- The system shall allow modification of the display.\n",
            "- The system shall store all Activity or Event data securely and be accessible only to authorized users.\n",
            "- The system shall provide a searchable interface for Activity or Event data.\n",
            "- The system shall be able to export Activity or Event data into various formats.\n",
            "\n",
            "Cluster 3: Functionality and Usability\n",
            "- The product shall be intuitive and self-explanatory. 90% of new users shall be able to start the display of Events or Activities within 90 minutes of using the product.\n",
            "- The system shall respond fast to keep up-to-date data in the display.\n",
            "- The system shall offer a display of all the Events in the exercise.\n",
            "- The system shall filter data by: Venues and Key Events.\n",
            "- The system shall allow a user to define the time segments.\n",
            "- The system shall display the local and exercise time in separate clocks.\n",
            "- The system shall offer the ability to pause and resume the refresh of data.\n",
            "- The system shall provide charts for the Activity or Event actual versus assumed time.\n",
            "- The system shall provide a history report of changes made to the Activity or Event data.\n",
            "- The system shall provide an audit trail for all changes made to the Activity or Event data.\n",
            "- The system shall be able to sort Activity or Events by time, priority, and venue.\n",
            "- The system shall be able to generate reports on Activity or Events.\n",
            "- The system shall be able to add custom fields to Activity or Event records.\n",
            "- The system shall provide alerts when an Activity or Events is approaching its due date.\n",
            "- The system shall provide an alert notification when an Activity or Event is running late or ahead of schedule.\n",
            "- The system shall provide the user with the ability to export data to a specified file format (e.g. CSV, XML, etc.).\n",
            "- The system shall provide the ability to compare actual versus assumed times for Events or Activities.\n",
            "- The system shall provide the ability to filter Events or Activities by Venue or Key Event.\n",
            "Human: Highlight key features in bullet points for each of the clusters.\n",
            "\n",
            "AI: Cluster 1: Display and Visualization\n",
            "- Refresh display every 60 seconds\n",
            "- MDI form for viewing graph and data table\n",
            "- Display events in a vertical table by time\n",
            "- Display events in a graph by time\n",
            "- Two regions on display: graphical and data table\n",
            "- Color code events according to variance from current time\n",
            "- Display timeline for each activity or event with start and end times\n",
            "- Provide graphical representation with Gantt chart\n",
            "- Allow drill-down capabilities for more detailed information\n",
            "- Calculate total elapsed time for each activity or event\n",
            "- Manual refresh option\n",
            "- Provide legend for quick distinction of event or activity data\n",
            "\n",
            "Cluster 2: Data Management and Security\n",
            "- Access control for authorized users\n",
            "- Link events to other applications for modifications\n",
            "- Allow modification of display\n",
            "- Securely store and limit access to activity or event data\n",
            "- Provide searchable interface for data\n",
            "- Export data in various formats\n",
            "\n",
            "Cluster 3: Functionality and Usability\n",
            "- Intuitive and self-explanatory product\n",
            "- Fast response to keep up-to-date data\n",
            "- Display all events in the exercise\n",
            "- Filter data by venues and key events\n",
            "- Allow user-defined time segments\n",
            "- Display local and exercise time separately\n",
            "- Pause and resume data refresh\n",
            "- Provide charts for actual versus assumed time\n",
            "- History report of changes made to data\n",
            "- Audit trail for all changes made\n",
            "- Sort events by time, priority, and venue\n",
            "- Generate reports on events\n",
            "- Add custom fields to records\n",
            "- Alerts for approaching due dates\n",
            "- Alert notification for events running late or ahead of schedule\n",
            "- Export data to specified file format\n",
            "- Compare actual versus assumed times\n",
            "- Filter events by venue or key event\n",
            "Human: Identify those features that might affect other features.\n",
            " List those features that may are in conflict or there could be a tradeoff between them.\n",
            "\n",
            "AI: Features that might affect other features:\n",
            "- The system shall refresh the display every 60 seconds. This feature might affect the fast response time of the system, as frequent refreshes could slow down the system's ability to keep up-to-date data in the display.\n",
            "- The system shall display Events in a vertical table by time. This feature might affect the display of Events in a graph by time, as both features involve displaying events and there might be limited space or conflicting design choices.\n",
            "- The system shall display the Events in a graph by time. This feature might affect the display of Events in a vertical table by time, as both features involve displaying events and there might be limited space or conflicting design choices.\n",
            "- The system shall display Events or Activities. This feature might affect the ability to filter data by Venues and Key Events, as filtering might depend on the distinction between Events and Activities.\n",
            "- The system shall display data from the Sync Matrix 1.0 and Exercise Management Tool 1.0 applications. This feature might affect the ability to link Events back to either the Sync Matrix 1.0 or the Exercise Management Tool 1.0 applications for modifications, as the display of data from these applications might require specific integration.\n",
            "\n",
            "Features that may be in conflict or have a tradeoff:\n",
            "- The system shall be intuitive and self-explanatory. 90% of new users shall be able to start the display of Events or Activities within 90 minutes of using the product.\n",
            "- The system shall provide drill-down capabilities that allow the user to view more detailed information about the Events or Activities.\n",
            "\n",
            "These two features might have a tradeoff between simplicity and complexity. Providing drill-down capabilities for more detailed information might make the system less intuitive and self-explanatory for new users. Finding the right balance between simplicity and depth of information could be a challenge.\n",
            "\n",
            "Human: Based on the usability of the system and criticality level of the requirements, score the conflict among the requirements as well as the requirements that are affecting others. \n",
            "Give a list which requirement is affecting other requirements or have a conflict among them along with criticality scores 1 to 10. 10 is the highest and 1 is the lowest.\n",
            "\n",
            "AI: Requirement: The system shall refresh the display every 60 seconds.\n",
            "Criticality Score: 6\n",
            "\n",
            "Requirement: The system shall display Events in a vertical table by time.\n",
            "Criticality Score: 7\n",
            "\n",
            "Requirement: The system shall display the Events in a graph by time.\n",
            "Criticality Score: 7\n",
            "\n",
            "Requirement: The system shall display Events or Activities.\n",
            "Criticality Score: 5\n",
            "\n",
            "Requirement: The system shall display data from the Sync Matrix 1.0 and Exercise Management Tool 1.0 applications.\n",
            "Criticality Score: 8\n",
            "\n",
            "Requirement: The system shall be intuitive and self-explanatory. 90% of new users shall be able to start the display of Events or Activities within 90 minutes of using the product.\n",
            "Criticality Score: 10\n",
            "\n",
            "Requirement: The system shall provide drill-down capabilities that allow the user to view more detailed information about the Events or Activities.\n",
            "Criticality Score: 9\n",
            "\n",
            "Conflict/Tradeoff:\n",
            "- Requirement: The system shall be intuitive and self-explanatory. 90% of new users shall be able to start the display of Events or Activities within 90 minutes of using the product.\n",
            "- Requirement: The system shall provide drill-down capabilities that allow the user to view more detailed information about the Events or Activities.\n",
            "Conflict/Tradeoff Score: 8\n",
            "</hs>\n",
            "------\n",
            "Based on the list of requirements, identify all the conflicts among the requirements. \n",
            "Give a list which requirement might be in conflict with other requirements or have a conflict among them along with conflict scores 1 to 10. 10 is the highest and 1 is the lowest.\n",
            "\n",
            "Answer:\n",
            "\u001b[0m\n",
            "\n",
            "\u001b[1m> Finished chain.\u001b[0m\n",
            "\n",
            "\u001b[1m> Finished chain.\u001b[0m\n",
            "Conflict List:\n",
            "\n",
            "1. The system shall display Events in a vertical table by time.\n",
            "   The system shall display the Events in a graph by time.\n",
            "   Conflict Score: 8\n",
            "\n",
            "2. The system shall be intuitive and self-explanatory. 90% of new users shall be able to start the display of\n",
            "Events or Activities within 90 minutes of using the product.\n",
            "   The system shall provide drill-down capabilities that allow the user to view more detailed information\n",
            "about the Events or Activities.\n",
            "   Conflict Score: 9\n",
            "\n",
            "3. The system shall refresh the display every 60 seconds.\n",
            "   The system shall provide fast response to keep up-to-date data in the display.\n",
            "   Conflict Score: 7\n",
            "\n",
            "4. The system shall display Events or Activities.\n",
            "   The system shall filter data by Venues and Key Events.\n",
            "   Conflict Score: 6\n",
            "\n",
            "5. The system shall display data from the Sync Matrix 1.0 and Exercise Management Tool 1.0 applications.\n",
            "   The system shall link Events back to either the Sync Matrix 1.0 or the Exercise Management Tool 1.0\n",
            "applications for modifications.\n",
            "   Conflict Score: 8\n",
            "\n",
            "6. The system shall provide a graphical representation of the data in the form of a Gantt chart.\n",
            "   The system shall provide drill-down capabilities that allow the user to view more detailed information\n",
            "about the Events or Activities.\n",
            "   Conflict Score: 7\n",
            "\n",
            "7. The system shall provide alerts when an Activity or Events is approaching its due date.\n",
            "   The system shall provide an alert notification when an Activity or Event is running late or ahead of\n",
            "schedule.\n",
            "   Conflict Score: 6\n",
            "\n",
            "8. The system shall be able to export Activity or Event data into various formats.\n",
            "   The system shall provide the user with the ability to export data to a specified file format (e.g. CSV,\n",
            "XML, etc.).\n",
            "   Conflict Score: 5\n",
            "\n",
            "9. The system shall provide the ability to compare actual versus assumed times for Events or Activities.\n",
            "   The system shall provide charts for the Activity or Event actual versus assumed time.\n",
            "   Conflict Score: 7\n",
            "\n",
            "10. The system shall provide the ability to filter Events or Activities by Venue or Key Event.\n",
            "    The system shall filter data by Venues and Key Events.\n",
            "    Conflict Score: 6\n",
            "\n",
            "\n",
            "Sources:\n",
            "req_test.txt\n",
            "req_test.txt\n",
            "req_test.txt\n"
          ]
        }
      ]
    },
    {
      "cell_type": "code",
      "source": [
        "query = \"\"\"Give the justification and explain against such scoring of the conflicts among requirements.\n",
        "\"\"\"\n",
        "llm_response = qa_chain(query)\n",
        "process_llm_response(llm_response)\n",
        "text_content = llm_response['result']"
      ],
      "metadata": {
        "colab": {
          "base_uri": "https://localhost:8080/"
        },
        "id": "KcL8mFJQwkf6",
        "outputId": "49f770b4-8e5f-4b82-c286-d2992543d805"
      },
      "execution_count": null,
      "outputs": [
        {
          "output_type": "stream",
          "name": "stderr",
          "text": [
            "WARNING:chromadb.segment.impl.vector.local_persistent_hnsw:Number of requested results 5 is greater than number of elements in index 3, updating n_results = 3\n"
          ]
        },
        {
          "output_type": "stream",
          "name": "stdout",
          "text": [
            "\n",
            "\n",
            "\u001b[1m> Entering new StuffDocumentsChain chain...\u001b[0m\n",
            "\n",
            "\n",
            "\u001b[1m> Entering new LLMChain chain...\u001b[0m\n",
            "Prompt after formatting:\n",
            "\u001b[32;1m\u001b[1;3m\n",
            "Use the following context (delimited by <ctx></ctx>) and the chat history (delimited by <hs></hs>) to answer the question:\n",
            "------\n",
            "<ctx>\n",
            "'The system shall refresh the display every 60 seconds.'\n",
            "'The application shall match the color of the schema set forth by Department of Homeland Security'\n",
            "'If projected  the data must be readable.  On a 10x10 projection screen  90% of viewers must be able to read Event / Activity data from a viewing distance of 30'\n",
            "'The product shall be available during normal business hours. As long as the user has access to the client PC  the system will be available 99% of the time during the first six months of operation.'\n",
            "'If projected  the data must be understandable. On a 10x10 projection screen  90% of viewers must be able to determine that Events or Activities are occuring in current time from a viewing distance of 100'\n",
            "'The product shall ensure that it can only be accessed by authorized users.  The product will be able to distinguish between authorized and unauthorized users in all access attempts'\n",
            "'The product shall be intuitive and self-explanatory. 90% of new users shall be able to start the display of Events or Activities within 90 minutes of using the product.'\n",
            "'The product shall respond fast to keep up-to-date data in the display.'\n",
            "'The system shall have a MDI form that allows for the viewing of the graph and the data table.'\n",
            "'The system shall display Events in a vertical table by time.'\n",
            "'The system shall display the Events in a graph by time.'\n",
            "'The system shall display Events or Activities.'\n",
            "'The display shall have two regions:  left 2/3 of the display is graphical  right 1/3 of the display is a data table'\n",
            "'The data displayed in both the nodes within the graph and the rows in the table are MSEL Summary data'\n",
            "'The table side of the display shall be split into 2 regions: sequential and temporal.'\n",
            "'The top 1/4 of the table will hold events that are to occur sequentially.'\n",
            "'The bottom 3/4 of the table will hold events that occur according to its relevance to current time.'\n",
            "'The system shall color code events according to their variance from current time.'\n",
            "'The system shall display data from the Sync Matrix 1.0 and Exercise Management Tool 1.0 applications'\n",
            "'The system shall link Events back to either the Sync Matrix 1.0 or the Exercise Managment Tool 1.0 applications for modifications.'\n",
            "'The system shall allow modification of the display.'\n",
            "'The system shall offer a display of all the Events in the exercise.'\n",
            "'The system shall filter data by: Venues and Key Events.'\n",
            "'The system shall allow a user to define the time segments'\n",
            "'The system shall display the local and exercise time in separate clocks'\n",
            "'The system shall offer the ability to pause and resume the refresh of data.'\n",
            "'The system shall provide charts for the Activity or Event actual versus assumed time.'\n",
            "'The system shall provide a history report of changes made to the Activity or Event data'\n",
            "\n",
            "The system shall display a timeline for each Activity or Event that displays expected start and end times.\n",
            "The system shall provide an alert notification when an Activity or Event is running late or ahead of\n",
            "schedule.\n",
            "The system shall display a legend that allows the user to quickly distinguish between the Event or Activity\n",
            "data visible on the screen.\n",
            "The system shall calculate the total elapsed time for each Activity or Event.\n",
            "The system shall allow the user to perform a manual refresh of the data displayed.\n",
            "The system shall provide a graphical representation of the data in the form of a Gantt chart.\n",
            "The system shall provide drill-down capabilities that allow the user to view more detailed information\n",
            "about the Events or Activities.\n",
            "The system shall provide the ability to filter Events or Activities by Venue or Key Event.\n",
            "The system shall provide the ability to compare actual versus assumed times for Events or Activities.\n",
            "The system shall provide the user with the ability to export data to a specified file format (e.g. CSV,\n",
            "XML, etc.).\n",
            "\n",
            "The system shall provide an audit trail for all changes made to the Activity or Event data.\n",
            "The system shall be able to display Activity or Event data in a timeline format.\n",
            "The system shall be able to display Activity or Event data in a Gantt chart format.\n",
            "The system shall provide alerts when an Activity or Events is approaching its due date.\n",
            "The system shall be able to sort Activity or Events by time, priority, and venue.\n",
            "The system shall be able to generate reports on Activity or Events.\n",
            " The system shall be able to add custom fields to Activity or Event records.\n",
            "The system shall store all Activity or Event data securely and be accessible only to authorized users.\n",
            "The system shall provide a searchable interface for Activity or Event data.\n",
            "The system shall be able to export Activity or Event data into various formats.\n",
            "</ctx>\n",
            "------\n",
            "<hs>\n",
            "Human: Create clusters of related requirements specification statements. \n",
            "Consider all the requirements specification statements. Give appropriate name of the clusters and cluster all the requirements statement appropriately.\n",
            "\n",
            "AI: Cluster 1: Display and Visualization\n",
            "- The system shall refresh the display every 60 seconds.\n",
            "- The system shall have a MDI form that allows for the viewing of the graph and the data table.\n",
            "- The system shall display Events in a vertical table by time.\n",
            "- The system shall display the Events in a graph by time.\n",
            "- The display shall have two regions: left 2/3 of the display is graphical, right 1/3 of the display is a data table.\n",
            "- The table side of the display shall be split into 2 regions: sequential and temporal.\n",
            "- The top 1/4 of the table will hold events that are to occur sequentially.\n",
            "- The bottom 3/4 of the table will hold events that occur according to its relevance to current time.\n",
            "- The system shall color code events according to their variance from current time.\n",
            "- The system shall display a timeline for each Activity or Event that displays expected start and end times.\n",
            "- The system shall provide a graphical representation of the data in the form of a Gantt chart.\n",
            "- The system shall provide drill-down capabilities that allow the user to view more detailed information about the Events or Activities.\n",
            "- The system shall calculate the total elapsed time for each Activity or Event.\n",
            "- The system shall allow the user to perform a manual refresh of the data displayed.\n",
            "- The system shall provide a legend that allows the user to quickly distinguish between the Event or Activity data visible on the screen.\n",
            "\n",
            "Cluster 2: Data Management and Security\n",
            "- The product shall ensure that it can only be accessed by authorized users. The product will be able to distinguish between authorized and unauthorized users in all access attempts.\n",
            "- The system shall link Events back to either the Sync Matrix 1.0 or the Exercise Management Tool 1.0 applications for modifications.\n",
            "- The system shall allow modification of the display.\n",
            "- The system shall store all Activity or Event data securely and be accessible only to authorized users.\n",
            "- The system shall provide a searchable interface for Activity or Event data.\n",
            "- The system shall be able to export Activity or Event data into various formats.\n",
            "\n",
            "Cluster 3: Functionality and Usability\n",
            "- The product shall be intuitive and self-explanatory. 90% of new users shall be able to start the display of Events or Activities within 90 minutes of using the product.\n",
            "- The system shall respond fast to keep up-to-date data in the display.\n",
            "- The system shall offer a display of all the Events in the exercise.\n",
            "- The system shall filter data by: Venues and Key Events.\n",
            "- The system shall allow a user to define the time segments.\n",
            "- The system shall display the local and exercise time in separate clocks.\n",
            "- The system shall offer the ability to pause and resume the refresh of data.\n",
            "- The system shall provide charts for the Activity or Event actual versus assumed time.\n",
            "- The system shall provide a history report of changes made to the Activity or Event data.\n",
            "- The system shall provide an audit trail for all changes made to the Activity or Event data.\n",
            "- The system shall be able to sort Activity or Events by time, priority, and venue.\n",
            "- The system shall be able to generate reports on Activity or Events.\n",
            "- The system shall be able to add custom fields to Activity or Event records.\n",
            "- The system shall provide alerts when an Activity or Events is approaching its due date.\n",
            "- The system shall provide an alert notification when an Activity or Event is running late or ahead of schedule.\n",
            "- The system shall provide the user with the ability to export data to a specified file format (e.g. CSV, XML, etc.).\n",
            "- The system shall provide the ability to compare actual versus assumed times for Events or Activities.\n",
            "- The system shall provide the ability to filter Events or Activities by Venue or Key Event.\n",
            "Human: Highlight key features in bullet points for each of the clusters.\n",
            "\n",
            "AI: Cluster 1: Display and Visualization\n",
            "- Refresh display every 60 seconds\n",
            "- MDI form for viewing graph and data table\n",
            "- Display events in a vertical table by time\n",
            "- Display events in a graph by time\n",
            "- Two regions on display: graphical and data table\n",
            "- Color code events according to variance from current time\n",
            "- Display timeline for each activity or event with start and end times\n",
            "- Provide graphical representation with Gantt chart\n",
            "- Allow drill-down capabilities for more detailed information\n",
            "- Calculate total elapsed time for each activity or event\n",
            "- Manual refresh option\n",
            "- Provide legend for quick distinction of event or activity data\n",
            "\n",
            "Cluster 2: Data Management and Security\n",
            "- Access control for authorized users\n",
            "- Link events to other applications for modifications\n",
            "- Allow modification of display\n",
            "- Securely store and limit access to activity or event data\n",
            "- Provide searchable interface for data\n",
            "- Export data in various formats\n",
            "\n",
            "Cluster 3: Functionality and Usability\n",
            "- Intuitive and self-explanatory product\n",
            "- Fast response to keep up-to-date data\n",
            "- Display all events in the exercise\n",
            "- Filter data by venues and key events\n",
            "- Allow user-defined time segments\n",
            "- Display local and exercise time separately\n",
            "- Pause and resume data refresh\n",
            "- Provide charts for actual versus assumed time\n",
            "- History report of changes made to data\n",
            "- Audit trail for all changes made\n",
            "- Sort events by time, priority, and venue\n",
            "- Generate reports on events\n",
            "- Add custom fields to records\n",
            "- Alerts for approaching due dates\n",
            "- Alert notification for events running late or ahead of schedule\n",
            "- Export data to specified file format\n",
            "- Compare actual versus assumed times\n",
            "- Filter events by venue or key event\n",
            "Human: Identify those features that might affect other features.\n",
            " List those features that may are in conflict or there could be a tradeoff between them.\n",
            "\n",
            "AI: Features that might affect other features:\n",
            "- The system shall refresh the display every 60 seconds. This feature might affect the fast response time of the system, as frequent refreshes could slow down the system's ability to keep up-to-date data in the display.\n",
            "- The system shall display Events in a vertical table by time. This feature might affect the display of Events in a graph by time, as both features involve displaying events and there might be limited space or conflicting design choices.\n",
            "- The system shall display the Events in a graph by time. This feature might affect the display of Events in a vertical table by time, as both features involve displaying events and there might be limited space or conflicting design choices.\n",
            "- The system shall display Events or Activities. This feature might affect the ability to filter data by Venues and Key Events, as filtering might depend on the distinction between Events and Activities.\n",
            "- The system shall display data from the Sync Matrix 1.0 and Exercise Management Tool 1.0 applications. This feature might affect the ability to link Events back to either the Sync Matrix 1.0 or the Exercise Management Tool 1.0 applications for modifications, as the display of data from these applications might require specific integration.\n",
            "\n",
            "Features that may be in conflict or have a tradeoff:\n",
            "- The system shall be intuitive and self-explanatory. 90% of new users shall be able to start the display of Events or Activities within 90 minutes of using the product.\n",
            "- The system shall provide drill-down capabilities that allow the user to view more detailed information about the Events or Activities.\n",
            "\n",
            "These two features might have a tradeoff between simplicity and complexity. Providing drill-down capabilities for more detailed information might make the system less intuitive and self-explanatory for new users. Finding the right balance between simplicity and depth of information could be a challenge.\n",
            "\n",
            "Human: Based on the usability of the system and criticality level of the requirements, score the conflict among the requirements as well as the requirements that are affecting others. \n",
            "Give a list which requirement is affecting other requirements or have a conflict among them along with criticality scores 1 to 10. 10 is the highest and 1 is the lowest.\n",
            "\n",
            "AI: Requirement: The system shall refresh the display every 60 seconds.\n",
            "Criticality Score: 6\n",
            "\n",
            "Requirement: The system shall display Events in a vertical table by time.\n",
            "Criticality Score: 7\n",
            "\n",
            "Requirement: The system shall display the Events in a graph by time.\n",
            "Criticality Score: 7\n",
            "\n",
            "Requirement: The system shall display Events or Activities.\n",
            "Criticality Score: 5\n",
            "\n",
            "Requirement: The system shall display data from the Sync Matrix 1.0 and Exercise Management Tool 1.0 applications.\n",
            "Criticality Score: 8\n",
            "\n",
            "Requirement: The system shall be intuitive and self-explanatory. 90% of new users shall be able to start the display of Events or Activities within 90 minutes of using the product.\n",
            "Criticality Score: 10\n",
            "\n",
            "Requirement: The system shall provide drill-down capabilities that allow the user to view more detailed information about the Events or Activities.\n",
            "Criticality Score: 9\n",
            "\n",
            "Conflict/Tradeoff:\n",
            "- Requirement: The system shall be intuitive and self-explanatory. 90% of new users shall be able to start the display of Events or Activities within 90 minutes of using the product.\n",
            "- Requirement: The system shall provide drill-down capabilities that allow the user to view more detailed information about the Events or Activities.\n",
            "Conflict/Tradeoff Score: 8\n",
            "Human: Based on the list of requirements, identify all the conflicts among the requirements. \n",
            "Give a list which requirement might be in conflict with other requirements or have a conflict among them along with conflict scores 1 to 10. 10 is the highest and 1 is the lowest.\n",
            "\n",
            "AI: Conflict List:\n",
            "\n",
            "1. The system shall display Events in a vertical table by time.\n",
            "   The system shall display the Events in a graph by time.\n",
            "   Conflict Score: 8\n",
            "\n",
            "2. The system shall be intuitive and self-explanatory. 90% of new users shall be able to start the display of Events or Activities within 90 minutes of using the product.\n",
            "   The system shall provide drill-down capabilities that allow the user to view more detailed information about the Events or Activities.\n",
            "   Conflict Score: 9\n",
            "\n",
            "3. The system shall refresh the display every 60 seconds.\n",
            "   The system shall provide fast response to keep up-to-date data in the display.\n",
            "   Conflict Score: 7\n",
            "\n",
            "4. The system shall display Events or Activities.\n",
            "   The system shall filter data by Venues and Key Events.\n",
            "   Conflict Score: 6\n",
            "\n",
            "5. The system shall display data from the Sync Matrix 1.0 and Exercise Management Tool 1.0 applications.\n",
            "   The system shall link Events back to either the Sync Matrix 1.0 or the Exercise Management Tool 1.0 applications for modifications.\n",
            "   Conflict Score: 8\n",
            "\n",
            "6. The system shall provide a graphical representation of the data in the form of a Gantt chart.\n",
            "   The system shall provide drill-down capabilities that allow the user to view more detailed information about the Events or Activities.\n",
            "   Conflict Score: 7\n",
            "\n",
            "7. The system shall provide alerts when an Activity or Events is approaching its due date.\n",
            "   The system shall provide an alert notification when an Activity or Event is running late or ahead of schedule.\n",
            "   Conflict Score: 6\n",
            "\n",
            "8. The system shall be able to export Activity or Event data into various formats.\n",
            "   The system shall provide the user with the ability to export data to a specified file format (e.g. CSV, XML, etc.).\n",
            "   Conflict Score: 5\n",
            "\n",
            "9. The system shall provide the ability to compare actual versus assumed times for Events or Activities.\n",
            "   The system shall provide charts for the Activity or Event actual versus assumed time.\n",
            "   Conflict Score: 7\n",
            "\n",
            "10. The system shall provide the ability to filter Events or Activities by Venue or Key Event.\n",
            "    The system shall filter data by Venues and Key Events.\n",
            "    Conflict Score: 6\n",
            "</hs>\n",
            "------\n",
            "Give the justification and explain against such scoring of the conflicts among requirements.\n",
            "\n",
            "Answer:\n",
            "\u001b[0m\n",
            "\n",
            "\u001b[1m> Finished chain.\u001b[0m\n",
            "\n",
            "\u001b[1m> Finished chain.\u001b[0m\n",
            "1. The system shall display Events in a vertical table by time.\n",
            "   The system shall display the Events in a graph by time.\n",
            "   Conflict Score: 8\n",
            "\n",
            "Justification: There might be limited space or conflicting design choices when deciding between displaying\n",
            "events in a vertical table or a graph. It could be challenging to find the right balance or compromise between\n",
            "the two options, leading to a potential conflict.\n",
            "\n",
            "2. The system shall be intuitive and self-explanatory. 90% of new users shall be able to start the display of\n",
            "Events or Activities within 90 minutes of using the product.\n",
            "   The system shall provide drill-down capabilities that allow the user to view more detailed information\n",
            "about the Events or Activities.\n",
            "   Conflict Score: 9\n",
            "\n",
            "Justification: Providing drill-down capabilities for more detailed information might make the system less\n",
            "intuitive and self-explanatory for new users. Balancing simplicity and depth of information could be a\n",
            "challenge and may lead to a conflict between these requirements.\n",
            "\n",
            "3. The system shall refresh the display every 60 seconds.\n",
            "   The system shall provide fast response to keep up-to-date data in the display.\n",
            "   Conflict Score: 7\n",
            "\n",
            "Justification: Frequent display refreshes every 60 seconds might affect the fast response time of the system.\n",
            "The system needs to balance between frequent refreshes and maintaining fast response time to ensure up-to-date\n",
            "data in the display. There might be a tradeoff between these two requirements.\n",
            "\n",
            "4. The system shall display Events or Activities.\n",
            "   The system shall filter data by Venues and Key Events.\n",
            "   Conflict Score: 6\n",
            "\n",
            "Justification: The distinction between Events and Activities might affect the ability to filter data by Venues\n",
            "and Key Events. The system needs to consider how Events and Activities are categorized and how it impacts the\n",
            "filtering functionality. There might be a potential conflict or tradeoff in designing the filtering\n",
            "capabilities.\n",
            "\n",
            "5. The system shall display data from the Sync Matrix 1.0 and Exercise Management Tool 1.0 applications.\n",
            "   The system shall link Events back to either the Sync Matrix 1.0 or the Exercise Management Tool 1.0\n",
            "applications for modifications.\n",
            "   Conflict Score: 8\n",
            "\n",
            "Justification: Displaying data from specific applications might require integration and compatibility\n",
            "considerations. Linking Events back to these applications for modifications might depend on the availability\n",
            "and functionality of the external applications. There could be a potential conflict or tradeoff between these\n",
            "requirements.\n",
            "\n",
            "6. The system shall provide a graphical representation of the data in the form of a Gantt chart.\n",
            "   The system shall provide drill-down capabilities that allow the user to view more detailed information\n",
            "about the Events or Activities.\n",
            "   Conflict Score: 7\n",
            "\n",
            "Justification: Providing drill-down capabilities for more detailed information might conflict with the\n",
            "simplicity and clarity of the graphical representation in the form of a Gantt chart. Balancing the level of\n",
            "detail and the overall visual representation could be a challenge, leading to a potential conflict.\n",
            "\n",
            "7. The system shall provide alerts when an Activity or Events is approaching its due date.\n",
            "   The system shall provide an alert notification when an Activity or Event is running late or ahead of\n",
            "schedule.\n",
            "   Conflict Score: 6\n",
            "\n",
            "Justification: The timing of alerts for approaching due dates and events running late or ahead of schedule\n",
            "might overlap or conflict with each other. Determining the appropriate timing and prioritization of alerts\n",
            "could be a challenge, leading to a potential conflict.\n",
            "\n",
            "8. The system shall be able to export Activity or Event data into various formats.\n",
            "   The system shall provide the user with the ability to export data to a specified file format (e.g. CSV,\n",
            "XML, etc.).\n",
            "   Conflict Score: 5\n",
            "\n",
            "Justification: Exporting data into various formats might conflict with the requirement of providing the user\n",
            "with the ability to export data to a specified file format. The system needs to consider the compatibility and\n",
            "flexibility of exporting data in different formats while ensuring a specified file format is also supported.\n",
            "There might be a tradeoff or conflict between these requirements.\n",
            "\n",
            "9. The system shall provide the ability to compare actual versus assumed times for Events or Activities.\n",
            "   The system shall provide charts for the Activity or Event actual versus assumed time.\n",
            "   Conflict Score: 7\n",
            "\n",
            "Justification: The requirement to compare actual versus assumed times might conflict with the specific\n",
            "implementation of providing charts for the comparison. The system needs to consider how the comparison is\n",
            "presented in the charts and how it aligns with the requirement. There might be a potential conflict or\n",
            "tradeoff in designing the comparison functionality.\n",
            "\n",
            "10. The system shall provide the ability to filter Events or Activities by Venue or Key Event.\n",
            "    The system shall filter data by Venues and Key Events.\n",
            "    Conflict Score: 6\n",
            "\n",
            "Justification: Filtering Events or Activities by Venue or Key Event might overlap or conflict with the broader\n",
            "requirement of filtering data by Venues and Key Events. The system needs to consider how the filtering is\n",
            "implemented and how it aligns with the specific requirements. There might be a potential conflict or tradeoff\n",
            "in designing the filtering capabilities.\n",
            "\n",
            "\n",
            "Sources:\n",
            "req_test.txt\n",
            "req_test.txt\n",
            "req_test.txt\n"
          ]
        }
      ]
    }
  ]
}